{
 "cells": [
  {
   "cell_type": "markdown",
   "metadata": {
    "id": "rkQS7Z8nvkyP"
   },
   "source": [
    "# Loading Data and Forming Predictive Model"
   ]
  },
  {
   "cell_type": "code",
   "execution_count": 7,
   "metadata": {
    "colab": {
     "base_uri": "https://localhost:8080/"
    },
    "id": "yD40P41um6Jy",
    "outputId": "1e8eb53d-4495-4677-fbd4-cbf7ae5f1c38"
   },
   "outputs": [
    {
     "name": "stdout",
     "output_type": "stream",
     "text": [
      "Access token obtained.\n"
     ]
    }
   ],
   "source": [
    "import requests\n",
    "import base64\n",
    "\n",
    "CLIENT_ID_NUM = '4f61e8409ac3460aa559f9c30eba6850'\n",
    "CLIENT_SECRET_NUM = '3551bf5bbc40404b8950cc35fb467e30'\n",
    "\n",
    "client_credentials = f\"{CLIENT_ID_NUM}:{CLIENT_SECRET_NUM}\"\n",
    "client_credentials_base64 = base64.b64encode(client_credentials.encode())\n",
    "\n",
    "token_url = 'https://accounts.spotify.com/api/token'\n",
    "headers = {'Authorization': f'Basic {client_credentials_base64.decode()}'}\n",
    "data = {'grant_type': 'client_credentials'}\n",
    "response = requests.post(token_url, data=data, headers=headers)\n",
    "\n",
    "if response.status_code == 200:\n",
    "    access_token = response.json()['access_token']\n",
    "    print(\"Access token obtained.\")\n",
    "else:\n",
    "    print(\"Error obtaining token.\")\n",
    "    exit()"
   ]
  },
  {
   "cell_type": "code",
   "execution_count": 8,
   "metadata": {
    "id": "GfPzGHr5rUX0"
   },
   "outputs": [],
   "source": [
    "import pandas as pd\n",
    "import spotipy\n",
    "from spotipy.oauth2 import SpotifyOAuth\n",
    "\n",
    "def obtain_playlist_data(playlist_id, access_token):\n",
    "    spot = spotipy.Spotify(auth=access_token)\n",
    "    playlist_agg = spot.playlist_tracks(playlist_id, fields='items(track(id, name, artists, album(id, name)))')\n",
    "\n",
    "    # list of all the track info\n",
    "    all_track_info = list()\n",
    "\n",
    "    # get the track/album name, id, etc.\n",
    "    for track_data in playlist_agg['items']:\n",
    "        track = track_data['track']\n",
    "        track_name = track['name']\n",
    "        artists = ', '.join([artist['name'] for artist in track['artists']])\n",
    "        album_name = track['album']['name']\n",
    "        album_id = track['album']['id']\n",
    "        track_id = track['id']\n",
    "\n",
    "        audio_feat = None\n",
    "        popularity = None\n",
    "\n",
    "        # obtain the audio features\n",
    "        try:\n",
    "          if track_id is not None:\n",
    "            audio_feat = spot.audio_features(track_id)[0]\n",
    "        except Exception as e:\n",
    "            print(f\"Error retrieving audio features for track {track_name} (Track ID: {track_id}): {e}\")\n",
    "\n",
    "        # obtain the popularity data\n",
    "        try:\n",
    "            if track_id is not None:\n",
    "                track_info = spot.track(track_id)\n",
    "                popularity = track_info['popularity'] if track_info else None\n",
    "        except:\n",
    "            pass\n",
    "\n",
    "        # create a dict to store data which we will eventually put into a data frame\n",
    "        track_data = dict()\n",
    "        track_data = {\n",
    "            'Track Name': track_name,\n",
    "            'Artists': artists,\n",
    "            'Album Name': album_name,\n",
    "            'Album ID': album_id,\n",
    "            'Track ID': track_id,\n",
    "            'Popularity': popularity,\n",
    "            'Explicit': track_info.get('explicit', None) if track_info else None,\n",
    "            'External URLs': track_info.get('external_urls', {}).get('spotify', None),\n",
    "            'Danceability': audio_feat.get('danceability', None) if audio_feat else None,\n",
    "            'Energy': audio_feat.get('energy', None) if audio_feat else None,\n",
    "            'Speechiness': audio_feat.get('speechiness', None) if audio_feat else None,\n",
    "            'Acousticness': audio_feat.get('acousticness', None) if audio_feat else None,\n",
    "            'Instrumentalness': audio_feat.get('instrumentalness', None) if audio_feat else None,\n",
    "            'Liveness': audio_feat.get('liveness', None) if audio_feat else None,\n",
    "            'Valence': audio_feat.get('valence', None) if audio_feat else None,\n",
    "            'Tempo': audio_feat.get('tempo', None) if audio_feat else None}\n",
    "\n",
    "        all_track_info.append(track_data)\n",
    "\n",
    "    df_track_info = pd.DataFrame(all_track_info)\n",
    "\n",
    "    return df_track_info"
   ]
  },
  {
   "cell_type": "code",
   "execution_count": 9,
   "metadata": {
    "id": "BAzWc2MF1pvM"
   },
   "outputs": [
    {
     "name": "stderr",
     "output_type": "stream",
     "text": [
      "HTTP Error for GET to https://api.spotify.com/v1/audio-features/?ids=7MXVkk9YMctZqd1Srtv4MB with Params: {} returned 403 due to None\n"
     ]
    },
    {
     "name": "stdout",
     "output_type": "stream",
     "text": [
      "Error retrieving audio features for track Starboy (Track ID: 7MXVkk9YMctZqd1Srtv4MB): http status: 403, code:-1 - https://api.spotify.com/v1/audio-features/?ids=7MXVkk9YMctZqd1Srtv4MB:\n",
      " None, reason: None\n"
     ]
    },
    {
     "name": "stderr",
     "output_type": "stream",
     "text": [
      "HTTP Error for GET to https://api.spotify.com/v1/audio-features/?ids=4F7A0DXBrmUAkp32uenhZt with Params: {} returned 403 due to None\n"
     ]
    },
    {
     "name": "stdout",
     "output_type": "stream",
     "text": [
      "Error retrieving audio features for track Party Monster (Track ID: 4F7A0DXBrmUAkp32uenhZt): http status: 403, code:-1 - https://api.spotify.com/v1/audio-features/?ids=4F7A0DXBrmUAkp32uenhZt:\n",
      " None, reason: None\n"
     ]
    },
    {
     "name": "stderr",
     "output_type": "stream",
     "text": [
      "HTTP Error for GET to https://api.spotify.com/v1/audio-features/?ids=37F0uwRSrdzkBiuj0D5UHI with Params: {} returned 403 due to None\n"
     ]
    },
    {
     "name": "stdout",
     "output_type": "stream",
     "text": [
      "Error retrieving audio features for track Reminder (Track ID: 37F0uwRSrdzkBiuj0D5UHI): http status: 403, code:-1 - https://api.spotify.com/v1/audio-features/?ids=37F0uwRSrdzkBiuj0D5UHI:\n",
      " None, reason: None\n"
     ]
    },
    {
     "name": "stderr",
     "output_type": "stream",
     "text": [
      "HTTP Error for GET to https://api.spotify.com/v1/audio-features/?ids=4h90qkbnW1Qq6pBhoPvwko with Params: {} returned 403 due to None\n",
      "HTTP Error for GET to https://api.spotify.com/v1/audio-features/?ids=0ifooM33X1iBxVYyOkSbXW with Params: {} returned 403 due to None\n"
     ]
    },
    {
     "name": "stdout",
     "output_type": "stream",
     "text": [
      "Error retrieving audio features for track Sidewalks (Track ID: 4h90qkbnW1Qq6pBhoPvwko): http status: 403, code:-1 - https://api.spotify.com/v1/audio-features/?ids=4h90qkbnW1Qq6pBhoPvwko:\n",
      " None, reason: None\n",
      "Error retrieving audio features for track A Lonely Night (Track ID: 0ifooM33X1iBxVYyOkSbXW): http status: 403, code:-1 - https://api.spotify.com/v1/audio-features/?ids=0ifooM33X1iBxVYyOkSbXW:\n",
      " None, reason: None\n"
     ]
    },
    {
     "name": "stderr",
     "output_type": "stream",
     "text": [
      "HTTP Error for GET to https://api.spotify.com/v1/audio-features/?ids=2Ch7LmS7r2Gy2kc64wv3Bz with Params: {} returned 403 due to None\n"
     ]
    },
    {
     "name": "stdout",
     "output_type": "stream",
     "text": [
      "Error retrieving audio features for track Die For You (Track ID: 2Ch7LmS7r2Gy2kc64wv3Bz): http status: 403, code:-1 - https://api.spotify.com/v1/audio-features/?ids=2Ch7LmS7r2Gy2kc64wv3Bz:\n",
      " None, reason: None\n"
     ]
    },
    {
     "name": "stderr",
     "output_type": "stream",
     "text": [
      "HTTP Error for GET to https://api.spotify.com/v1/audio-features/?ids=4mU5iXHeLgbR94siF7p1sY with Params: {} returned 403 due to None\n"
     ]
    },
    {
     "name": "stdout",
     "output_type": "stream",
     "text": [
      "Error retrieving audio features for track Six Feet Under (Track ID: 4mU5iXHeLgbR94siF7p1sY): http status: 403, code:-1 - https://api.spotify.com/v1/audio-features/?ids=4mU5iXHeLgbR94siF7p1sY:\n",
      " None, reason: None\n"
     ]
    },
    {
     "name": "stderr",
     "output_type": "stream",
     "text": [
      "HTTP Error for GET to https://api.spotify.com/v1/audio-features/?ids=3Te3gG6MPEDNqLGzWrjKC3 with Params: {} returned 403 due to None\n",
      "HTTP Error for GET to https://api.spotify.com/v1/audio-features/?ids=2vgUijXOTRMnWXDtvgMp2b with Params: {} returned 403 due to None\n"
     ]
    },
    {
     "name": "stdout",
     "output_type": "stream",
     "text": [
      "Error retrieving audio features for track Nothing Without You (Track ID: 3Te3gG6MPEDNqLGzWrjKC3): http status: 403, code:-1 - https://api.spotify.com/v1/audio-features/?ids=3Te3gG6MPEDNqLGzWrjKC3:\n",
      " None, reason: None\n",
      "Error retrieving audio features for track Take My Breath (Track ID: 2vgUijXOTRMnWXDtvgMp2b): http status: 403, code:-1 - https://api.spotify.com/v1/audio-features/?ids=2vgUijXOTRMnWXDtvgMp2b:\n",
      " None, reason: None\n"
     ]
    },
    {
     "name": "stderr",
     "output_type": "stream",
     "text": [
      "HTTP Error for GET to https://api.spotify.com/v1/audio-features/?ids=2SLwbpExuoBDZBpjfefCtV with Params: {} returned 403 due to None\n"
     ]
    },
    {
     "name": "stdout",
     "output_type": "stream",
     "text": [
      "Error retrieving audio features for track Out of Time (Track ID: 2SLwbpExuoBDZBpjfefCtV): http status: 403, code:-1 - https://api.spotify.com/v1/audio-features/?ids=2SLwbpExuoBDZBpjfefCtV:\n",
      " None, reason: None\n"
     ]
    },
    {
     "name": "stderr",
     "output_type": "stream",
     "text": [
      "HTTP Error for GET to https://api.spotify.com/v1/audio-features/?ids=0mL82sxCRjrs3br407IdJh with Params: {} returned 403 due to None\n"
     ]
    },
    {
     "name": "stdout",
     "output_type": "stream",
     "text": [
      "Error retrieving audio features for track Is There Someone Else? (Track ID: 0mL82sxCRjrs3br407IdJh): http status: 403, code:-1 - https://api.spotify.com/v1/audio-features/?ids=0mL82sxCRjrs3br407IdJh:\n",
      " None, reason: None\n"
     ]
    },
    {
     "name": "stderr",
     "output_type": "stream",
     "text": [
      "HTTP Error for GET to https://api.spotify.com/v1/audio-features/?ids=1E5Xu8dur0fAjSP1VpVhAZ with Params: {} returned 403 due to None\n"
     ]
    },
    {
     "name": "stdout",
     "output_type": "stream",
     "text": [
      "Error retrieving audio features for track Best Friends (Track ID: 1E5Xu8dur0fAjSP1VpVhAZ): http status: 403, code:-1 - https://api.spotify.com/v1/audio-features/?ids=1E5Xu8dur0fAjSP1VpVhAZ:\n",
      " None, reason: None\n"
     ]
    },
    {
     "name": "stderr",
     "output_type": "stream",
     "text": [
      "HTTP Error for GET to https://api.spotify.com/v1/audio-features/?ids=6a4GH1gljLL7VvmO9u5O92 with Params: {} returned 403 due to None\n"
     ]
    },
    {
     "name": "stdout",
     "output_type": "stream",
     "text": [
      "Error retrieving audio features for track Don’t Break My Heart (Track ID: 6a4GH1gljLL7VvmO9u5O92): http status: 403, code:-1 - https://api.spotify.com/v1/audio-features/?ids=6a4GH1gljLL7VvmO9u5O92:\n",
      " None, reason: None\n"
     ]
    },
    {
     "name": "stderr",
     "output_type": "stream",
     "text": [
      "HTTP Error for GET to https://api.spotify.com/v1/audio-features/?ids=2D4dV2KXDTszzJ3p3cFqhA with Params: {} returned 403 due to None\n"
     ]
    },
    {
     "name": "stdout",
     "output_type": "stream",
     "text": [
      "Error retrieving audio features for track Less Than Zero (Track ID: 2D4dV2KXDTszzJ3p3cFqhA): http status: 403, code:-1 - https://api.spotify.com/v1/audio-features/?ids=2D4dV2KXDTszzJ3p3cFqhA:\n",
      " None, reason: None\n"
     ]
    },
    {
     "name": "stderr",
     "output_type": "stream",
     "text": [
      "HTTP Error for GET to https://api.spotify.com/v1/audio-features/?ids=5XbA7TAqsD0fj0dGBrbb0D with Params: {} returned 403 due to None\n"
     ]
    },
    {
     "name": "stdout",
     "output_type": "stream",
     "text": [
      "Error retrieving audio features for track I Heard You’re Married (feat. Lil Wayne) (Track ID: 5XbA7TAqsD0fj0dGBrbb0D): http status: 403, code:-1 - https://api.spotify.com/v1/audio-features/?ids=5XbA7TAqsD0fj0dGBrbb0D:\n",
      " None, reason: None\n"
     ]
    },
    {
     "name": "stderr",
     "output_type": "stream",
     "text": [
      "HTTP Error for GET to https://api.spotify.com/v1/audio-features/?ids=1nH2PkJL1XoUq8oE6tBZoU with Params: {} returned 403 due to None\n"
     ]
    },
    {
     "name": "stdout",
     "output_type": "stream",
     "text": [
      "Error retrieving audio features for track Sacrifice (Track ID: 1nH2PkJL1XoUq8oE6tBZoU): http status: 403, code:-1 - https://api.spotify.com/v1/audio-features/?ids=1nH2PkJL1XoUq8oE6tBZoU:\n",
      " None, reason: None\n"
     ]
    },
    {
     "name": "stderr",
     "output_type": "stream",
     "text": [
      "HTTP Error for GET to https://api.spotify.com/v1/audio-features/?ids=6bnF93Rx87YqUBLSgjiMU8 with Params: {} returned 403 due to None\n"
     ]
    },
    {
     "name": "stdout",
     "output_type": "stream",
     "text": [
      "Error retrieving audio features for track Heartless (Track ID: 6bnF93Rx87YqUBLSgjiMU8): http status: 403, code:-1 - https://api.spotify.com/v1/audio-features/?ids=6bnF93Rx87YqUBLSgjiMU8:\n",
      " None, reason: None\n"
     ]
    },
    {
     "name": "stderr",
     "output_type": "stream",
     "text": [
      "HTTP Error for GET to https://api.spotify.com/v1/audio-features/?ids=3orEOtd8CPL8GFlpRpKuoE with Params: {} returned 403 due to None\n"
     ]
    },
    {
     "name": "stdout",
     "output_type": "stream",
     "text": [
      "Error retrieving audio features for track Faith (Track ID: 3orEOtd8CPL8GFlpRpKuoE): http status: 403, code:-1 - https://api.spotify.com/v1/audio-features/?ids=3orEOtd8CPL8GFlpRpKuoE:\n",
      " None, reason: None\n"
     ]
    },
    {
     "name": "stderr",
     "output_type": "stream",
     "text": [
      "HTTP Error for GET to https://api.spotify.com/v1/audio-features/?ids=5QO79kh1waicV47BqGRL3g with Params: {} returned 403 due to None\n"
     ]
    },
    {
     "name": "stdout",
     "output_type": "stream",
     "text": [
      "Error retrieving audio features for track Save Your Tears (Track ID: 5QO79kh1waicV47BqGRL3g): http status: 403, code:-1 - https://api.spotify.com/v1/audio-features/?ids=5QO79kh1waicV47BqGRL3g:\n",
      " None, reason: None\n"
     ]
    },
    {
     "name": "stderr",
     "output_type": "stream",
     "text": [
      "HTTP Error for GET to https://api.spotify.com/v1/audio-features/?ids=0VjIjW4GlUZAMYd2vXMi3b with Params: {} returned 403 due to None\n"
     ]
    },
    {
     "name": "stdout",
     "output_type": "stream",
     "text": [
      "Error retrieving audio features for track Blinding Lights (Track ID: 0VjIjW4GlUZAMYd2vXMi3b): http status: 403, code:-1 - https://api.spotify.com/v1/audio-features/?ids=0VjIjW4GlUZAMYd2vXMi3b:\n",
      " None, reason: None\n"
     ]
    },
    {
     "name": "stderr",
     "output_type": "stream",
     "text": [
      "HTTP Error for GET to https://api.spotify.com/v1/audio-features/?ids=4BGZF4oLbTL0pWm7C18pbv with Params: {} returned 403 due to None\n"
     ]
    },
    {
     "name": "stdout",
     "output_type": "stream",
     "text": [
      "Error retrieving audio features for track Scared To Live (Track ID: 4BGZF4oLbTL0pWm7C18pbv): http status: 403, code:-1 - https://api.spotify.com/v1/audio-features/?ids=4BGZF4oLbTL0pWm7C18pbv:\n",
      " None, reason: None\n"
     ]
    },
    {
     "name": "stderr",
     "output_type": "stream",
     "text": [
      "HTTP Error for GET to https://api.spotify.com/v1/audio-features/?ids=6kWxIqQDsKFYCJGbU4AjCX with Params: {} returned 403 due to None\n",
      "HTTP Error for GET to https://api.spotify.com/v1/audio-features/?ids=2K9Ovn1o2bTGqbsABGC6m3 with Params: {} returned 403 due to None\n"
     ]
    },
    {
     "name": "stdout",
     "output_type": "stream",
     "text": [
      "Error retrieving audio features for track Hardest To Love (Track ID: 6kWxIqQDsKFYCJGbU4AjCX): http status: 403, code:-1 - https://api.spotify.com/v1/audio-features/?ids=6kWxIqQDsKFYCJGbU4AjCX:\n",
      " None, reason: None\n",
      "Error retrieving audio features for track Too Late (Track ID: 2K9Ovn1o2bTGqbsABGC6m3): http status: 403, code:-1 - https://api.spotify.com/v1/audio-features/?ids=2K9Ovn1o2bTGqbsABGC6m3:\n",
      " None, reason: None\n"
     ]
    },
    {
     "name": "stderr",
     "output_type": "stream",
     "text": [
      "HTTP Error for GET to https://api.spotify.com/v1/audio-features/?ids=7szuecWAPwGoV1e5vGu8tl with Params: {} returned 403 due to None\n"
     ]
    },
    {
     "name": "stdout",
     "output_type": "stream",
     "text": [
      "Error retrieving audio features for track In Your Eyes (Track ID: 7szuecWAPwGoV1e5vGu8tl): http status: 403, code:-1 - https://api.spotify.com/v1/audio-features/?ids=7szuecWAPwGoV1e5vGu8tl:\n",
      " None, reason: None\n"
     ]
    },
    {
     "name": "stderr",
     "output_type": "stream",
     "text": [
      "HTTP Error for GET to https://api.spotify.com/v1/audio-features/?ids=2p8IUWQDrpjuFltbdgLOag with Params: {} returned 403 due to None\n"
     ]
    },
    {
     "name": "stdout",
     "output_type": "stream",
     "text": [
      "Error retrieving audio features for track After Hours (Track ID: 2p8IUWQDrpjuFltbdgLOag): http status: 403, code:-1 - https://api.spotify.com/v1/audio-features/?ids=2p8IUWQDrpjuFltbdgLOag:\n",
      " None, reason: None\n"
     ]
    },
    {
     "name": "stderr",
     "output_type": "stream",
     "text": [
      "HTTP Error for GET to https://api.spotify.com/v1/audio-features/?ids=4PhsKqMdgMEUSstTDAmMpg with Params: {} returned 403 due to None\n"
     ]
    },
    {
     "name": "stdout",
     "output_type": "stream",
     "text": [
      "Error retrieving audio features for track Often (Track ID: 4PhsKqMdgMEUSstTDAmMpg): http status: 403, code:-1 - https://api.spotify.com/v1/audio-features/?ids=4PhsKqMdgMEUSstTDAmMpg:\n",
      " None, reason: None\n"
     ]
    },
    {
     "name": "stderr",
     "output_type": "stream",
     "text": [
      "HTTP Error for GET to https://api.spotify.com/v1/audio-features/?ids=7fBv7CLKzipRk6EC6TWHOB with Params: {} returned 403 due to None\n"
     ]
    },
    {
     "name": "stdout",
     "output_type": "stream",
     "text": [
      "Error retrieving audio features for track The Hills (Track ID: 7fBv7CLKzipRk6EC6TWHOB): http status: 403, code:-1 - https://api.spotify.com/v1/audio-features/?ids=7fBv7CLKzipRk6EC6TWHOB:\n",
      " None, reason: None\n"
     ]
    },
    {
     "name": "stderr",
     "output_type": "stream",
     "text": [
      "HTTP Error for GET to https://api.spotify.com/v1/audio-features/?ids=22VdIZQfgXJea34mQxlt81 with Params: {} returned 403 due to None\n"
     ]
    },
    {
     "name": "stdout",
     "output_type": "stream",
     "text": [
      "Error retrieving audio features for track Can't Feel My Face (Track ID: 22VdIZQfgXJea34mQxlt81): http status: 403, code:-1 - https://api.spotify.com/v1/audio-features/?ids=22VdIZQfgXJea34mQxlt81:\n",
      " None, reason: None\n"
     ]
    },
    {
     "name": "stderr",
     "output_type": "stream",
     "text": [
      "HTTP Error for GET to https://api.spotify.com/v1/audio-features/?ids=50iiDJGpAPdr2VTrz999XA with Params: {} returned 403 due to None\n"
     ]
    },
    {
     "name": "stdout",
     "output_type": "stream",
     "text": [
      "Error retrieving audio features for track House Of Balloons / Glass Table Girls (Track ID: 50iiDJGpAPdr2VTrz999XA): http status: 403, code:-1 - https://api.spotify.com/v1/audio-features/?ids=50iiDJGpAPdr2VTrz999XA:\n",
      " None, reason: None\n"
     ]
    },
    {
     "name": "stderr",
     "output_type": "stream",
     "text": [
      "HTTP Error for GET to https://api.spotify.com/v1/audio-features/?ids=6u0dQik0aif7FQlrhycG1L with Params: {} returned 403 due to None\n"
     ]
    },
    {
     "name": "stdout",
     "output_type": "stream",
     "text": [
      "Error retrieving audio features for track The Morning (Track ID: 6u0dQik0aif7FQlrhycG1L): http status: 403, code:-1 - https://api.spotify.com/v1/audio-features/?ids=6u0dQik0aif7FQlrhycG1L:\n",
      " None, reason: None\n"
     ]
    },
    {
     "name": "stderr",
     "output_type": "stream",
     "text": [
      "HTTP Error for GET to https://api.spotify.com/v1/audio-features/?ids=0dcf0L6F1LUA1nE2zWH4J2 with Params: {} returned 403 due to None\n"
     ]
    },
    {
     "name": "stdout",
     "output_type": "stream",
     "text": [
      "Error retrieving audio features for track The Party & The After Party (Track ID: 0dcf0L6F1LUA1nE2zWH4J2): http status: 403, code:-1 - https://api.spotify.com/v1/audio-features/?ids=0dcf0L6F1LUA1nE2zWH4J2:\n",
      " None, reason: None\n"
     ]
    },
    {
     "name": "stderr",
     "output_type": "stream",
     "text": [
      "HTTP Error for GET to https://api.spotify.com/v1/audio-features/?ids=1FJrsh1NbV9eRw5JQt3M4e with Params: {} returned 403 due to None\n"
     ]
    },
    {
     "name": "stdout",
     "output_type": "stream",
     "text": [
      "Error retrieving audio features for track Twenty Eight (Track ID: 1FJrsh1NbV9eRw5JQt3M4e): http status: 403, code:-1 - https://api.spotify.com/v1/audio-features/?ids=1FJrsh1NbV9eRw5JQt3M4e:\n",
      " None, reason: None\n"
     ]
    },
    {
     "name": "stderr",
     "output_type": "stream",
     "text": [
      "HTTP Error for GET to https://api.spotify.com/v1/audio-features/?ids=0p3sSUXDohjddeKlnvGbCD with Params: {} returned 403 due to None\n"
     ]
    },
    {
     "name": "stdout",
     "output_type": "stream",
     "text": [
      "Error retrieving audio features for track Lonely Star (Track ID: 0p3sSUXDohjddeKlnvGbCD): http status: 403, code:-1 - https://api.spotify.com/v1/audio-features/?ids=0p3sSUXDohjddeKlnvGbCD:\n",
      " None, reason: None\n"
     ]
    },
    {
     "name": "stderr",
     "output_type": "stream",
     "text": [
      "HTTP Error for GET to https://api.spotify.com/v1/audio-features/?ids=4fiYSa6ln7h0scprgNEs0g with Params: {} returned 403 due to None\n"
     ]
    },
    {
     "name": "stdout",
     "output_type": "stream",
     "text": [
      "Error retrieving audio features for track Thursday (Track ID: 4fiYSa6ln7h0scprgNEs0g): http status: 403, code:-1 - https://api.spotify.com/v1/audio-features/?ids=4fiYSa6ln7h0scprgNEs0g:\n",
      " None, reason: None\n"
     ]
    },
    {
     "name": "stderr",
     "output_type": "stream",
     "text": [
      "HTTP Error for GET to https://api.spotify.com/v1/audio-features/?ids=46X8c9qJzpBLYcos3OX0CE with Params: {} returned 403 due to None\n"
     ]
    },
    {
     "name": "stdout",
     "output_type": "stream",
     "text": [
      "Error retrieving audio features for track The Zone (Track ID: 46X8c9qJzpBLYcos3OX0CE): http status: 403, code:-1 - https://api.spotify.com/v1/audio-features/?ids=46X8c9qJzpBLYcos3OX0CE:\n",
      " None, reason: None\n"
     ]
    },
    {
     "name": "stderr",
     "output_type": "stream",
     "text": [
      "HTTP Error for GET to https://api.spotify.com/v1/audio-features/?ids=29fTi7Tdh9CiU8HuVDaqVY with Params: {} returned 403 due to None\n"
     ]
    },
    {
     "name": "stdout",
     "output_type": "stream",
     "text": [
      "Error retrieving audio features for track Rolling Stone (Track ID: 29fTi7Tdh9CiU8HuVDaqVY): http status: 403, code:-1 - https://api.spotify.com/v1/audio-features/?ids=29fTi7Tdh9CiU8HuVDaqVY:\n",
      " None, reason: None\n"
     ]
    },
    {
     "name": "stderr",
     "output_type": "stream",
     "text": [
      "HTTP Error for GET to https://api.spotify.com/v1/audio-features/?ids=3hDnFYwpnY0wONZDkYxUsj with Params: {} returned 403 due to None\n"
     ]
    },
    {
     "name": "stdout",
     "output_type": "stream",
     "text": [
      "Error retrieving audio features for track Heaven Or Las Vegas (Track ID: 3hDnFYwpnY0wONZDkYxUsj): http status: 403, code:-1 - https://api.spotify.com/v1/audio-features/?ids=3hDnFYwpnY0wONZDkYxUsj:\n",
      " None, reason: None\n"
     ]
    },
    {
     "name": "stderr",
     "output_type": "stream",
     "text": [
      "HTTP Error for GET to https://api.spotify.com/v1/audio-features/?ids=4fLnXd56RsWN4ZBtb9TegQ with Params: {} returned 403 due to None\n"
     ]
    },
    {
     "name": "stdout",
     "output_type": "stream",
     "text": [
      "Error retrieving audio features for track Valerie (Track ID: 4fLnXd56RsWN4ZBtb9TegQ): http status: 403, code:-1 - https://api.spotify.com/v1/audio-features/?ids=4fLnXd56RsWN4ZBtb9TegQ:\n",
      " None, reason: None\n"
     ]
    },
    {
     "name": "stderr",
     "output_type": "stream",
     "text": [
      "HTTP Error for GET to https://api.spotify.com/v1/audio-features/?ids=7eZ7ODAt9cALYnWLO8F6Fd with Params: {} returned 403 due to None\n",
      "HTTP Error for GET to https://api.spotify.com/v1/audio-features/?ids=6fRgjqJptZry7fipP2Beyh with Params: {} returned 403 due to None\n"
     ]
    },
    {
     "name": "stdout",
     "output_type": "stream",
     "text": [
      "Error retrieving audio features for track D.D. (Track ID: 7eZ7ODAt9cALYnWLO8F6Fd): http status: 403, code:-1 - https://api.spotify.com/v1/audio-features/?ids=7eZ7ODAt9cALYnWLO8F6Fd:\n",
      " None, reason: None\n",
      "Error retrieving audio features for track Montreal (Track ID: 6fRgjqJptZry7fipP2Beyh): http status: 403, code:-1 - https://api.spotify.com/v1/audio-features/?ids=6fRgjqJptZry7fipP2Beyh:\n",
      " None, reason: None\n"
     ]
    },
    {
     "name": "stderr",
     "output_type": "stream",
     "text": [
      "HTTP Error for GET to https://api.spotify.com/v1/audio-features/?ids=1yhDPgIPGoe3Bf8wRsK4u7 with Params: {} returned 403 due to None\n"
     ]
    },
    {
     "name": "stdout",
     "output_type": "stream",
     "text": [
      "Error retrieving audio features for track Outside (Track ID: 1yhDPgIPGoe3Bf8wRsK4u7): http status: 403, code:-1 - https://api.spotify.com/v1/audio-features/?ids=1yhDPgIPGoe3Bf8wRsK4u7:\n",
      " None, reason: None\n"
     ]
    },
    {
     "name": "stderr",
     "output_type": "stream",
     "text": [
      "HTTP Error for GET to https://api.spotify.com/v1/audio-features/?ids=0C5WrEPjUYPxVkKyth1Lbz with Params: {} returned 403 due to None\n"
     ]
    },
    {
     "name": "stdout",
     "output_type": "stream",
     "text": [
      "Error retrieving audio features for track XO / The Host (Track ID: 0C5WrEPjUYPxVkKyth1Lbz): http status: 403, code:-1 - https://api.spotify.com/v1/audio-features/?ids=0C5WrEPjUYPxVkKyth1Lbz:\n",
      " None, reason: None\n"
     ]
    },
    {
     "name": "stderr",
     "output_type": "stream",
     "text": [
      "HTTP Error for GET to https://api.spotify.com/v1/audio-features/?ids=3Dt75NjLThmoBTp5wQC7g7 with Params: {} returned 403 due to None\n",
      "HTTP Error for GET to https://api.spotify.com/v1/audio-features/?ids=4m0KaNb0ClCOvgThd2Gv2b with Params: {} returned 403 due to None\n"
     ]
    },
    {
     "name": "stdout",
     "output_type": "stream",
     "text": [
      "Error retrieving audio features for track Same Old Song (Track ID: 3Dt75NjLThmoBTp5wQC7g7): http status: 403, code:-1 - https://api.spotify.com/v1/audio-features/?ids=3Dt75NjLThmoBTp5wQC7g7:\n",
      " None, reason: None\n",
      "Error retrieving audio features for track Next (Track ID: 4m0KaNb0ClCOvgThd2Gv2b): http status: 403, code:-1 - https://api.spotify.com/v1/audio-features/?ids=4m0KaNb0ClCOvgThd2Gv2b:\n",
      " None, reason: None\n"
     ]
    },
    {
     "name": "stderr",
     "output_type": "stream",
     "text": [
      "HTTP Error for GET to https://api.spotify.com/v1/audio-features/?ids=6Rqe6ghJ6t9SlQ2pRrt5tI with Params: {} returned 403 due to None\n"
     ]
    },
    {
     "name": "stdout",
     "output_type": "stream",
     "text": [
      "Error retrieving audio features for track Till Dawn (Here Comes The Sun) (Track ID: 6Rqe6ghJ6t9SlQ2pRrt5tI): http status: 403, code:-1 - https://api.spotify.com/v1/audio-features/?ids=6Rqe6ghJ6t9SlQ2pRrt5tI:\n",
      " None, reason: None\n"
     ]
    },
    {
     "name": "stderr",
     "output_type": "stream",
     "text": [
      "HTTP Error for GET to https://api.spotify.com/v1/audio-features/?ids=7xqANDRz8JFxkwfY65WISy with Params: {} returned 403 due to None\n"
     ]
    },
    {
     "name": "stdout",
     "output_type": "stream",
     "text": [
      "Error retrieving audio features for track Loft Music (Track ID: 7xqANDRz8JFxkwfY65WISy): http status: 403, code:-1 - https://api.spotify.com/v1/audio-features/?ids=7xqANDRz8JFxkwfY65WISy:\n",
      " None, reason: None\n"
     ]
    },
    {
     "name": "stderr",
     "output_type": "stream",
     "text": [
      "HTTP Error for GET to https://api.spotify.com/v1/audio-features/?ids=6VwBbL8CzPiC4QV66ay7oR with Params: {} returned 403 due to None\n",
      "HTTP Error for GET to https://api.spotify.com/v1/audio-features/?ids=44I7sqKYCAa7bQdVywkShO with Params: {} returned 403 due to None\n"
     ]
    },
    {
     "name": "stdout",
     "output_type": "stream",
     "text": [
      "Error retrieving audio features for track Wicked Games (Track ID: 6VwBbL8CzPiC4QV66ay7oR): http status: 403, code:-1 - https://api.spotify.com/v1/audio-features/?ids=6VwBbL8CzPiC4QV66ay7oR:\n",
      " None, reason: None\n",
      "Error retrieving audio features for track Hurricane (Track ID: 44I7sqKYCAa7bQdVywkShO): http status: 403, code:-1 - https://api.spotify.com/v1/audio-features/?ids=44I7sqKYCAa7bQdVywkShO:\n",
      " None, reason: None\n"
     ]
    },
    {
     "name": "stderr",
     "output_type": "stream",
     "text": [
      "HTTP Error for GET to https://api.spotify.com/v1/audio-features/?ids=20MuVazoNMv6xjKPnRFOxG with Params: {} returned 403 due to None\n"
     ]
    },
    {
     "name": "stdout",
     "output_type": "stream",
     "text": [
      "Error retrieving audio features for track WAKE UP (Track ID: 20MuVazoNMv6xjKPnRFOxG): http status: 403, code:-1 - https://api.spotify.com/v1/audio-features/?ids=20MuVazoNMv6xjKPnRFOxG:\n",
      " None, reason: None\n"
     ]
    },
    {
     "name": "stderr",
     "output_type": "stream",
     "text": [
      "HTTP Error for GET to https://api.spotify.com/v1/audio-features/?ids=09mEdoA6zrmBPgTEN5qXmN with Params: {} returned 403 due to None\n"
     ]
    },
    {
     "name": "stdout",
     "output_type": "stream",
     "text": [
      "Error retrieving audio features for track Call Out My Name (Track ID: 09mEdoA6zrmBPgTEN5qXmN): http status: 403, code:-1 - https://api.spotify.com/v1/audio-features/?ids=09mEdoA6zrmBPgTEN5qXmN:\n",
      " None, reason: None\n"
     ]
    },
    {
     "name": "stderr",
     "output_type": "stream",
     "text": [
      "HTTP Error for GET to https://api.spotify.com/v1/audio-features/?ids=4ppTAJUbNXELZcoUaL90wo with Params: {} returned 403 due to None\n",
      "HTTP Error for GET to https://api.spotify.com/v1/audio-features/?ids=2Ghp894n1laIf2w98VeAOJ with Params: {} returned 403 due to None\n"
     ]
    },
    {
     "name": "stdout",
     "output_type": "stream",
     "text": [
      "Error retrieving audio features for track Try Me (Track ID: 4ppTAJUbNXELZcoUaL90wo): http status: 403, code:-1 - https://api.spotify.com/v1/audio-features/?ids=4ppTAJUbNXELZcoUaL90wo:\n",
      " None, reason: None\n",
      "Error retrieving audio features for track How Do I Make You Love Me? (Track ID: 2Ghp894n1laIf2w98VeAOJ): http status: 403, code:-1 - https://api.spotify.com/v1/audio-features/?ids=2Ghp894n1laIf2w98VeAOJ:\n",
      " None, reason: None\n"
     ]
    },
    {
     "name": "stderr",
     "output_type": "stream",
     "text": [
      "HTTP Error for GET to https://api.spotify.com/v1/audio-features/?ids=1B87ZDrD3Pno9hS4stamWO with Params: {} returned 403 due to None\n"
     ]
    },
    {
     "name": "stdout",
     "output_type": "stream",
     "text": [
      "Error retrieving audio features for track Comin Out Strong (feat. The Weeknd) (Track ID: 1B87ZDrD3Pno9hS4stamWO): http status: 403, code:-1 - https://api.spotify.com/v1/audio-features/?ids=1B87ZDrD3Pno9hS4stamWO:\n",
      " None, reason: None\n"
     ]
    },
    {
     "name": "stderr",
     "output_type": "stream",
     "text": [
      "HTTP Error for GET to https://api.spotify.com/v1/audio-features/?ids=6C6fHTuFUxVtJpBOOaMvJr with Params: {} returned 403 due to None\n",
      "HTTP Error for GET to https://api.spotify.com/v1/audio-features/?ids=7EiZI6JVHllARrX9PUvAdX with Params: {} returned 403 due to None\n"
     ]
    },
    {
     "name": "stdout",
     "output_type": "stream",
     "text": [
      "Error retrieving audio features for track Shameless (Track ID: 6C6fHTuFUxVtJpBOOaMvJr): http status: 403, code:-1 - https://api.spotify.com/v1/audio-features/?ids=6C6fHTuFUxVtJpBOOaMvJr:\n",
      " None, reason: None\n",
      "Error retrieving audio features for track Low Life (feat. The Weeknd) (Track ID: 7EiZI6JVHllARrX9PUvAdX): http status: 403, code:-1 - https://api.spotify.com/v1/audio-features/?ids=7EiZI6JVHllARrX9PUvAdX:\n",
      " None, reason: None\n"
     ]
    },
    {
     "name": "stderr",
     "output_type": "stream",
     "text": [
      "HTTP Error for GET to https://api.spotify.com/v1/audio-features/?ids=1cKHdTo9u0ZymJdPGSh6nq with Params: {} returned 403 due to None\n",
      "HTTP Error for GET to https://api.spotify.com/v1/audio-features/?ids=0Nwar8rweBUyfyuoyjjUvk with Params: {} returned 403 due to None\n"
     ]
    },
    {
     "name": "stdout",
     "output_type": "stream",
     "text": [
      "Error retrieving audio features for track I Was Never There (Track ID: 1cKHdTo9u0ZymJdPGSh6nq): http status: 403, code:-1 - https://api.spotify.com/v1/audio-features/?ids=1cKHdTo9u0ZymJdPGSh6nq:\n",
      " None, reason: None\n",
      "Error retrieving audio features for track Privilege (Track ID: 0Nwar8rweBUyfyuoyjjUvk): http status: 403, code:-1 - https://api.spotify.com/v1/audio-features/?ids=0Nwar8rweBUyfyuoyjjUvk:\n",
      " None, reason: None\n"
     ]
    },
    {
     "name": "stderr",
     "output_type": "stream",
     "text": [
      "HTTP Error for GET to https://api.spotify.com/v1/audio-features/?ids=4hqOmrCCJKyiuwDexd8c2t with Params: {} returned 403 due to None\n",
      "HTTP Error for GET to https://api.spotify.com/v1/audio-features/?ids=64BuLY7ggczC17w5LSUlSE with Params: {} returned 403 due to None\n"
     ]
    },
    {
     "name": "stdout",
     "output_type": "stream",
     "text": [
      "Error retrieving audio features for track Price On My Head (feat. The Weeknd) (Track ID: 4hqOmrCCJKyiuwDexd8c2t): http status: 403, code:-1 - https://api.spotify.com/v1/audio-features/?ids=4hqOmrCCJKyiuwDexd8c2t:\n",
      " None, reason: None\n",
      "Error retrieving audio features for track Creepin' (with The Weeknd & 21 Savage) (Track ID: 64BuLY7ggczC17w5LSUlSE): http status: 403, code:-1 - https://api.spotify.com/v1/audio-features/?ids=64BuLY7ggczC17w5LSUlSE:\n",
      " None, reason: None\n"
     ]
    },
    {
     "name": "stderr",
     "output_type": "stream",
     "text": [
      "HTTP Error for GET to https://api.spotify.com/v1/audio-features/?ids=6MtAyBxdZ2VFOk7vTRvb86 with Params: {} returned 403 due to None\n"
     ]
    },
    {
     "name": "stdout",
     "output_type": "stream",
     "text": [
      "Error retrieving audio features for track Enemy (Track ID: 6MtAyBxdZ2VFOk7vTRvb86): http status: 403, code:-1 - https://api.spotify.com/v1/audio-features/?ids=6MtAyBxdZ2VFOk7vTRvb86:\n",
      " None, reason: None\n"
     ]
    },
    {
     "name": "stderr",
     "output_type": "stream",
     "text": [
      "HTTP Error for GET to https://api.spotify.com/v1/audio-features/?ids=5SF1kcOiOmtZFUIQNGC4TC with Params: {} returned 403 due to None\n",
      "HTTP Error for GET to https://api.spotify.com/v1/audio-features/?ids=2yYDijitHN6psA2tH0ndXs with Params: {} returned 403 due to None\n"
     ]
    },
    {
     "name": "stdout",
     "output_type": "stream",
     "text": [
      "Error retrieving audio features for track The Birds Pt. 1 (Track ID: 5SF1kcOiOmtZFUIQNGC4TC): http status: 403, code:-1 - https://api.spotify.com/v1/audio-features/?ids=5SF1kcOiOmtZFUIQNGC4TC:\n",
      " None, reason: None\n",
      "Error retrieving audio features for track The Birds Pt. 2 (Track ID: 2yYDijitHN6psA2tH0ndXs): http status: 403, code:-1 - https://api.spotify.com/v1/audio-features/?ids=2yYDijitHN6psA2tH0ndXs:\n",
      " None, reason: None\n"
     ]
    },
    {
     "name": "stderr",
     "output_type": "stream",
     "text": [
      "HTTP Error for GET to https://api.spotify.com/v1/audio-features/?ids=7xgYvziLsxNd0UznaEw8Oi with Params: {} returned 403 due to None\n",
      "HTTP Error for GET to https://api.spotify.com/v1/audio-features/?ids=3PHmIGGAltIV30QyB1UplA with Params: {} returned 403 due to None\n"
     ]
    },
    {
     "name": "stdout",
     "output_type": "stream",
     "text": [
      "Error retrieving audio features for track Gone (Track ID: 7xgYvziLsxNd0UznaEw8Oi): http status: 403, code:-1 - https://api.spotify.com/v1/audio-features/?ids=7xgYvziLsxNd0UznaEw8Oi:\n",
      " None, reason: None\n",
      "Error retrieving audio features for track Trust Issues (Track ID: 3PHmIGGAltIV30QyB1UplA): http status: 403, code:-1 - https://api.spotify.com/v1/audio-features/?ids=3PHmIGGAltIV30QyB1UplA:\n",
      " None, reason: None\n"
     ]
    },
    {
     "name": "stderr",
     "output_type": "stream",
     "text": [
      "HTTP Error for GET to https://api.spotify.com/v1/audio-features/?ids=3dhjNA0jGA8vHBQ1VdD6vV with Params: {} returned 403 due to None\n"
     ]
    },
    {
     "name": "stdout",
     "output_type": "stream",
     "text": [
      "Error retrieving audio features for track I Feel It Coming (Track ID: 3dhjNA0jGA8vHBQ1VdD6vV): http status: 403, code:-1 - https://api.spotify.com/v1/audio-features/?ids=3dhjNA0jGA8vHBQ1VdD6vV:\n",
      " None, reason: None\n"
     ]
    },
    {
     "name": "stderr",
     "output_type": "stream",
     "text": [
      "HTTP Error for GET to https://api.spotify.com/v1/audio-features/?ids=6eJbjaoLRlfwrfWpeS6alF with Params: {} returned 403 due to None\n",
      "HTTP Error for GET to https://api.spotify.com/v1/audio-features/?ids=6utQlfLooYsUkq5xUg3vxt with Params: {} returned 403 due to None\n"
     ]
    },
    {
     "name": "stdout",
     "output_type": "stream",
     "text": [
      "Error retrieving audio features for track Life Of The Party (Track ID: 6eJbjaoLRlfwrfWpeS6alF): http status: 403, code:-1 - https://api.spotify.com/v1/audio-features/?ids=6eJbjaoLRlfwrfWpeS6alF:\n",
      " None, reason: None\n",
      "Error retrieving audio features for track Nothing Compares - Bonus Track (Track ID: 6utQlfLooYsUkq5xUg3vxt): http status: 403, code:-1 - https://api.spotify.com/v1/audio-features/?ids=6utQlfLooYsUkq5xUg3vxt:\n",
      " None, reason: None\n"
     ]
    },
    {
     "name": "stderr",
     "output_type": "stream",
     "text": [
      "HTTP Error for GET to https://api.spotify.com/v1/audio-features/?ids=6tjsbysvZh8Pq8DZA5ldrn with Params: {} returned 403 due to None\n"
     ]
    },
    {
     "name": "stdout",
     "output_type": "stream",
     "text": [
      "Error retrieving audio features for track The Knowing (Track ID: 6tjsbysvZh8Pq8DZA5ldrn): http status: 403, code:-1 - https://api.spotify.com/v1/audio-features/?ids=6tjsbysvZh8Pq8DZA5ldrn:\n",
      " None, reason: None\n"
     ]
    },
    {
     "name": "stderr",
     "output_type": "stream",
     "text": [
      "HTTP Error for GET to https://api.spotify.com/v1/audio-features/?ids=2dJ4rGtsOHOgvTQawsCRtg with Params: {} returned 403 due to None\n"
     ]
    },
    {
     "name": "stdout",
     "output_type": "stream",
     "text": [
      "Error retrieving audio features for track Pray 4 Love (feat. The Weeknd) (Track ID: 2dJ4rGtsOHOgvTQawsCRtg): http status: 403, code:-1 - https://api.spotify.com/v1/audio-features/?ids=2dJ4rGtsOHOgvTQawsCRtg:\n",
      " None, reason: None\n"
     ]
    },
    {
     "name": "stderr",
     "output_type": "stream",
     "text": [
      "HTTP Error for GET to https://api.spotify.com/v1/audio-features/?ids=6huNf4dutXRjJyGn7f5BPS with Params: {} returned 403 due to None\n"
     ]
    },
    {
     "name": "stdout",
     "output_type": "stream",
     "text": [
      "Error retrieving audio features for track Pray For Me (Track ID: 6huNf4dutXRjJyGn7f5BPS): http status: 403, code:-1 - https://api.spotify.com/v1/audio-features/?ids=6huNf4dutXRjJyGn7f5BPS:\n",
      " None, reason: None\n"
     ]
    },
    {
     "name": "stderr",
     "output_type": "stream",
     "text": [
      "HTTP Error for GET to https://api.spotify.com/v1/audio-features/?ids=6q4EtrwC14rUa98NhI0vKx with Params: {} returned 403 due to None\n",
      "HTTP Error for GET to https://api.spotify.com/v1/audio-features/?ids=7t2bFihaDvhIrd2gn2CWJO with Params: {} returned 403 due to None\n"
     ]
    },
    {
     "name": "stdout",
     "output_type": "stream",
     "text": [
      "Error retrieving audio features for track Make It (feat. The Weeknd) [DJAmg Remixer] (Track ID: 6q4EtrwC14rUa98NhI0vKx): http status: 403, code:-1 - https://api.spotify.com/v1/audio-features/?ids=6q4EtrwC14rUa98NhI0vKx:\n",
      " None, reason: None\n",
      "Error retrieving audio features for track Or Nah (feat. The Weeknd, Wiz Khalifa & DJ Mustard) - Remix (Track ID: 7t2bFihaDvhIrd2gn2CWJO): http status: 403, code:-1 - https://api.spotify.com/v1/audio-features/?ids=7t2bFihaDvhIrd2gn2CWJO:\n",
      " None, reason: None\n"
     ]
    },
    {
     "name": "stderr",
     "output_type": "stream",
     "text": [
      "HTTP Error for GET to https://api.spotify.com/v1/audio-features/?ids=6QdnKD1zwEgyOWtkrdzlOF with Params: {} returned 403 due to None\n",
      "HTTP Error for GET to https://api.spotify.com/v1/audio-features/?ids=6b5P51m8xx2XA6U7sdNZ5E with Params: {} returned 403 due to None\n"
     ]
    },
    {
     "name": "stdout",
     "output_type": "stream",
     "text": [
      "Error retrieving audio features for track Hurt You (Track ID: 6QdnKD1zwEgyOWtkrdzlOF): http status: 403, code:-1 - https://api.spotify.com/v1/audio-features/?ids=6QdnKD1zwEgyOWtkrdzlOF:\n",
      " None, reason: None\n",
      "Error retrieving audio features for track Alone Again (Track ID: 6b5P51m8xx2XA6U7sdNZ5E): http status: 403, code:-1 - https://api.spotify.com/v1/audio-features/?ids=6b5P51m8xx2XA6U7sdNZ5E:\n",
      " None, reason: None\n"
     ]
    },
    {
     "name": "stderr",
     "output_type": "stream",
     "text": [
      "HTTP Error for GET to https://api.spotify.com/v1/audio-features/?ids=5ViIbEgXhDBsLEapDKISRC with Params: {} returned 403 due to None\n",
      "HTTP Error for GET to https://api.spotify.com/v1/audio-features/?ids=7kfOEMJBJwdCYqyJeEnNhr with Params: {} returned 403 due to None\n"
     ]
    },
    {
     "name": "stdout",
     "output_type": "stream",
     "text": [
      "Error retrieving audio features for track High For This (Track ID: 5ViIbEgXhDBsLEapDKISRC): http status: 403, code:-1 - https://api.spotify.com/v1/audio-features/?ids=5ViIbEgXhDBsLEapDKISRC:\n",
      " None, reason: None\n",
      "Error retrieving audio features for track Moth To A Flame (with The Weeknd) (Track ID: 7kfOEMJBJwdCYqyJeEnNhr): http status: 403, code:-1 - https://api.spotify.com/v1/audio-features/?ids=7kfOEMJBJwdCYqyJeEnNhr:\n",
      " None, reason: None\n"
     ]
    },
    {
     "name": "stderr",
     "output_type": "stream",
     "text": [
      "HTTP Error for GET to https://api.spotify.com/v1/audio-features/?ids=5J4ZkQpzMUFojo1CtAZYpn with Params: {} returned 403 due to None\n"
     ]
    },
    {
     "name": "stdout",
     "output_type": "stream",
     "text": [
      "Error retrieving audio features for track Love Me Harder (Track ID: 5J4ZkQpzMUFojo1CtAZYpn): http status: 403, code:-1 - https://api.spotify.com/v1/audio-features/?ids=5J4ZkQpzMUFojo1CtAZYpn:\n",
      " None, reason: None\n"
     ]
    },
    {
     "name": "stderr",
     "output_type": "stream",
     "text": [
      "HTTP Error for GET to https://api.spotify.com/v1/audio-features/?ids=4VMRsbfZzd3SfQtaJ1Wpwi with Params: {} returned 403 due to None\n"
     ]
    },
    {
     "name": "stdout",
     "output_type": "stream",
     "text": [
      "Error retrieving audio features for track Double Fantasy (with Future) (Track ID: 4VMRsbfZzd3SfQtaJ1Wpwi): http status: 403, code:-1 - https://api.spotify.com/v1/audio-features/?ids=4VMRsbfZzd3SfQtaJ1Wpwi:\n",
      " None, reason: None\n"
     ]
    },
    {
     "name": "stderr",
     "output_type": "stream",
     "text": [
      "HTTP Error for GET to https://api.spotify.com/v1/audio-features/?ids=6NMtzpDQBTOfJwMzgMX0zl with Params: {} returned 403 due to None\n"
     ]
    },
    {
     "name": "stdout",
     "output_type": "stream",
     "text": [
      "Error retrieving audio features for track SKELETONS (Track ID: 6NMtzpDQBTOfJwMzgMX0zl): http status: 403, code:-1 - https://api.spotify.com/v1/audio-features/?ids=6NMtzpDQBTOfJwMzgMX0zl:\n",
      " None, reason: None\n"
     ]
    },
    {
     "name": "stderr",
     "output_type": "stream",
     "text": [
      "HTTP Error for GET to https://api.spotify.com/v1/audio-features/?ids=5xP9lQYA8YQmQh6BOxcAnR with Params: {} returned 403 due to None\n",
      "HTTP Error for GET to https://api.spotify.com/v1/audio-features/?ids=6cViXqp01e3FrAaseuiSAV with Params: {} returned 403 due to None\n"
     ]
    },
    {
     "name": "stdout",
     "output_type": "stream",
     "text": [
      "Error retrieving audio features for track Popular (with Playboi Carti & Madonna) - The Idol Vol. 1 (Music from the HBO Original Series) (Track ID: 5xP9lQYA8YQmQh6BOxcAnR): http status: 403, code:-1 - https://api.spotify.com/v1/audio-features/?ids=5xP9lQYA8YQmQh6BOxcAnR:\n",
      " None, reason: None\n",
      "Error retrieving audio features for track False Idols (with Lil Baby, Suzanna Son) (Track ID: 6cViXqp01e3FrAaseuiSAV): http status: 403, code:-1 - https://api.spotify.com/v1/audio-features/?ids=6cViXqp01e3FrAaseuiSAV:\n",
      " None, reason: None\n"
     ]
    },
    {
     "name": "stderr",
     "output_type": "stream",
     "text": [
      "HTTP Error for GET to https://api.spotify.com/v1/audio-features/?ids=6QZePG40wT3i7bIRlmauTm with Params: {} returned 403 due to None\n"
     ]
    },
    {
     "name": "stdout",
     "output_type": "stream",
     "text": [
      "Error retrieving audio features for track Take Me Back (Track ID: 6QZePG40wT3i7bIRlmauTm): http status: 403, code:-1 - https://api.spotify.com/v1/audio-features/?ids=6QZePG40wT3i7bIRlmauTm:\n",
      " None, reason: None\n"
     ]
    },
    {
     "name": "stderr",
     "output_type": "stream",
     "text": [
      "HTTP Error for GET to https://api.spotify.com/v1/audio-features/?ids=1NhjYYcYTRywc0di98xHxf with Params: {} returned 403 due to None\n"
     ]
    },
    {
     "name": "stdout",
     "output_type": "stream",
     "text": [
      "Error retrieving audio features for track Here We Go… Again (feat. Tyler, the Creator) (Track ID: 1NhjYYcYTRywc0di98xHxf): http status: 403, code:-1 - https://api.spotify.com/v1/audio-features/?ids=1NhjYYcYTRywc0di98xHxf:\n",
      " None, reason: None\n"
     ]
    },
    {
     "name": "stderr",
     "output_type": "stream",
     "text": [
      "HTTP Error for GET to https://api.spotify.com/v1/audio-features/?ids=1sOW4PuG5X3Ie3EXUhAopJ with Params: {} returned 403 due to None\n"
     ]
    },
    {
     "name": "stdout",
     "output_type": "stream",
     "text": [
      "Error retrieving audio features for track Escape From LA (Track ID: 1sOW4PuG5X3Ie3EXUhAopJ): http status: 403, code:-1 - https://api.spotify.com/v1/audio-features/?ids=1sOW4PuG5X3Ie3EXUhAopJ:\n",
      " None, reason: None\n"
     ]
    },
    {
     "name": "stderr",
     "output_type": "stream",
     "text": [
      "HTTP Error for GET to https://api.spotify.com/v1/audio-features/?ids=7lsYGc5H5DHktxO7gbB8bN with Params: {} returned 403 due to None\n"
     ]
    },
    {
     "name": "stdout",
     "output_type": "stream",
     "text": [
      "Error retrieving audio features for track Ordinary Life (Track ID: 7lsYGc5H5DHktxO7gbB8bN): http status: 403, code:-1 - https://api.spotify.com/v1/audio-features/?ids=7lsYGc5H5DHktxO7gbB8bN:\n",
      " None, reason: None\n"
     ]
    },
    {
     "name": "stderr",
     "output_type": "stream",
     "text": [
      "HTTP Error for GET to https://api.spotify.com/v1/audio-features/?ids=6wQlQrTY5mVS8EGaFZVwVF with Params: {} returned 403 due to None\n"
     ]
    },
    {
     "name": "stdout",
     "output_type": "stream",
     "text": [
      "Error retrieving audio features for track Smile (with The Weeknd) (Track ID: 6wQlQrTY5mVS8EGaFZVwVF): http status: 403, code:-1 - https://api.spotify.com/v1/audio-features/?ids=6wQlQrTY5mVS8EGaFZVwVF:\n",
      " None, reason: None\n"
     ]
    },
    {
     "name": "stderr",
     "output_type": "stream",
     "text": [
      "HTTP Error for GET to https://api.spotify.com/v1/audio-features/?ids=30Zcjs7pgEkmJA1lEbGSWT with Params: {} returned 403 due to None\n"
     ]
    },
    {
     "name": "stdout",
     "output_type": "stream",
     "text": [
      "Error retrieving audio features for track FML (Track ID: 30Zcjs7pgEkmJA1lEbGSWT): http status: 403, code:-1 - https://api.spotify.com/v1/audio-features/?ids=30Zcjs7pgEkmJA1lEbGSWT:\n",
      " None, reason: None\n"
     ]
    },
    {
     "name": "stderr",
     "output_type": "stream",
     "text": [
      "HTTP Error for GET to https://api.spotify.com/v1/audio-features/?ids=5L3ecxQnQ9qTBmnLQiwf0C with Params: {} returned 403 due to None\n"
     ]
    },
    {
     "name": "stdout",
     "output_type": "stream",
     "text": [
      "Error retrieving audio features for track K-POP (Track ID: 5L3ecxQnQ9qTBmnLQiwf0C): http status: 403, code:-1 - https://api.spotify.com/v1/audio-features/?ids=5L3ecxQnQ9qTBmnLQiwf0C:\n",
      " None, reason: None\n"
     ]
    },
    {
     "name": "stderr",
     "output_type": "stream",
     "text": [
      "HTTP Error for GET to https://api.spotify.com/v1/audio-features/?ids=4oeaIftdpT3JuZLcCkKmVE with Params: {} returned 403 due to None\n"
     ]
    },
    {
     "name": "stdout",
     "output_type": "stream",
     "text": [
      "Error retrieving audio features for track False Alarm (Track ID: 4oeaIftdpT3JuZLcCkKmVE): http status: 403, code:-1 - https://api.spotify.com/v1/audio-features/?ids=4oeaIftdpT3JuZLcCkKmVE:\n",
      " None, reason: None\n"
     ]
    },
    {
     "name": "stderr",
     "output_type": "stream",
     "text": [
      "HTTP Error for GET to https://api.spotify.com/v1/audio-features/?ids=36YCdzT57us0LhDmCYtrNE with Params: {} returned 403 due to None\n"
     ]
    },
    {
     "name": "stdout",
     "output_type": "stream",
     "text": [
      "Error retrieving audio features for track Rockin’ (Track ID: 36YCdzT57us0LhDmCYtrNE): http status: 403, code:-1 - https://api.spotify.com/v1/audio-features/?ids=36YCdzT57us0LhDmCYtrNE:\n",
      " None, reason: None\n"
     ]
    },
    {
     "name": "stderr",
     "output_type": "stream",
     "text": [
      "HTTP Error for GET to https://api.spotify.com/v1/audio-features/?ids=6pDVjCUA3B1vg9waKutAsv with Params: {} returned 403 due to None\n"
     ]
    },
    {
     "name": "stdout",
     "output_type": "stream",
     "text": [
      "Error retrieving audio features for track Attention (Track ID: 6pDVjCUA3B1vg9waKutAsv): http status: 403, code:-1 - https://api.spotify.com/v1/audio-features/?ids=6pDVjCUA3B1vg9waKutAsv:\n",
      " None, reason: None\n"
     ]
    },
    {
     "name": "stderr",
     "output_type": "stream",
     "text": [
      "HTTP Error for GET to https://api.spotify.com/v1/audio-features/?ids=03j354P848KtNU2FVSwkDG with Params: {} returned 403 due to None\n",
      "HTTP Error for GET to https://api.spotify.com/v1/audio-features/?ids=1bAvtmTl0F9loyz9AwPwp7 with Params: {} returned 403 due to None\n"
     ]
    },
    {
     "name": "stdout",
     "output_type": "stream",
     "text": [
      "Error retrieving audio features for track Real Life (Track ID: 03j354P848KtNU2FVSwkDG): http status: 403, code:-1 - https://api.spotify.com/v1/audio-features/?ids=03j354P848KtNU2FVSwkDG:\n",
      " None, reason: None\n",
      "Error retrieving audio features for track Losers (Track ID: 1bAvtmTl0F9loyz9AwPwp7): http status: 403, code:-1 - https://api.spotify.com/v1/audio-features/?ids=1bAvtmTl0F9loyz9AwPwp7:\n",
      " None, reason: None\n"
     ]
    },
    {
     "name": "stderr",
     "output_type": "stream",
     "text": [
      "HTTP Error for GET to https://api.spotify.com/v1/audio-features/?ids=1mhVXWduD8ReDwusfaHNwU with Params: {} returned 403 due to None\n"
     ]
    },
    {
     "name": "stdout",
     "output_type": "stream",
     "text": [
      "Error retrieving audio features for track Tell Your Friends (Track ID: 1mhVXWduD8ReDwusfaHNwU): http status: 403, code:-1 - https://api.spotify.com/v1/audio-features/?ids=1mhVXWduD8ReDwusfaHNwU:\n",
      " None, reason: None\n"
     ]
    },
    {
     "name": "stderr",
     "output_type": "stream",
     "text": [
      "HTTP Error for GET to https://api.spotify.com/v1/audio-features/?ids=7uJH0YdSZL6psjxI6Xy08b with Params: {} returned 403 due to None\n",
      "HTTP Error for GET to https://api.spotify.com/v1/audio-features/?ids=3QWENKFYGEgp3itgTnrgq9 with Params: {} returned 403 due to None\n"
     ]
    },
    {
     "name": "stdout",
     "output_type": "stream",
     "text": [
      "Error retrieving audio features for track Acquainted (Track ID: 7uJH0YdSZL6psjxI6Xy08b): http status: 403, code:-1 - https://api.spotify.com/v1/audio-features/?ids=7uJH0YdSZL6psjxI6Xy08b:\n",
      " None, reason: None\n",
      "Error retrieving audio features for track Initiation (Track ID: 3QWENKFYGEgp3itgTnrgq9): http status: 403, code:-1 - https://api.spotify.com/v1/audio-features/?ids=3QWENKFYGEgp3itgTnrgq9:\n",
      " None, reason: None\n"
     ]
    },
    {
     "name": "stderr",
     "output_type": "stream",
     "text": [
      "HTTP Error for GET to https://api.spotify.com/v1/audio-features/?ids=3OxL6MuctgZp1e0zxoAZhH with Params: {} returned 403 due to None\n",
      "HTTP Error for GET to https://api.spotify.com/v1/audio-features/?ids=3dQEShIMs5TW8H3eUh11r7 with Params: {} returned 403 due to None\n"
     ]
    },
    {
     "name": "stdout",
     "output_type": "stream",
     "text": [
      "Error retrieving audio features for track Young Metro (Track ID: 3OxL6MuctgZp1e0zxoAZhH): http status: 403, code:-1 - https://api.spotify.com/v1/audio-features/?ids=3OxL6MuctgZp1e0zxoAZhH:\n",
      " None, reason: None\n",
      "Error retrieving audio features for track Twenty Eight (Track ID: 3dQEShIMs5TW8H3eUh11r7): http status: 403, code:-1 - https://api.spotify.com/v1/audio-features/?ids=3dQEShIMs5TW8H3eUh11r7:\n",
      " None, reason: None\n"
     ]
    },
    {
     "name": "stderr",
     "output_type": "stream",
     "text": [
      "HTTP Error for GET to https://api.spotify.com/v1/audio-features/?ids=5ZicFGBDAi9J2YCVesboUp with Params: {} returned 403 due to None\n",
      "HTTP Error for GET to https://api.spotify.com/v1/audio-features/?ids=7HLn9FW7A3XPb5JVYN1090 with Params: {} returned 403 due to None\n"
     ]
    },
    {
     "name": "stdout",
     "output_type": "stream",
     "text": [
      "Error retrieving audio features for track Professional (Track ID: 5ZicFGBDAi9J2YCVesboUp): http status: 403, code:-1 - https://api.spotify.com/v1/audio-features/?ids=5ZicFGBDAi9J2YCVesboUp:\n",
      " None, reason: None\n",
      "Error retrieving audio features for track Dancing In The Flames - Live from São Paulo (Track ID: 7HLn9FW7A3XPb5JVYN1090): http status: 403, code:-1 - https://api.spotify.com/v1/audio-features/?ids=7HLn9FW7A3XPb5JVYN1090:\n",
      " None, reason: None\n"
     ]
    }
   ],
   "source": [
    "# this is the training data\n",
    "playlist_id = '5grvNhkcAbW8mng9DjKy3e'\n",
    "df_track_info = obtain_playlist_data(playlist_id, access_token)"
   ]
  },
  {
   "cell_type": "code",
   "execution_count": 4,
   "metadata": {
    "id": "Tg_TEfSA-QJn"
   },
   "outputs": [
    {
     "name": "stderr",
     "output_type": "stream",
     "text": [
      "HTTP Error for GET to https://api.spotify.com/v1/audio-features/?ids=3xKsf9qdS1CyvXSMEid6g8 with Params: {} returned 403 due to None\n",
      "HTTP Error for GET to https://api.spotify.com/v1/audio-features/?ids=4QhWbupniDd44EDtnh2bFJ with Params: {} returned 403 due to None\n"
     ]
    },
    {
     "name": "stdout",
     "output_type": "stream",
     "text": [
      "Error retrieving audio features for track Pink + White (Track ID: 3xKsf9qdS1CyvXSMEid6g8): http status: 403, code:-1 - https://api.spotify.com/v1/audio-features/?ids=3xKsf9qdS1CyvXSMEid6g8:\n",
      " None, reason: None\n",
      "Error retrieving audio features for track Pyramids (Track ID: 4QhWbupniDd44EDtnh2bFJ): http status: 403, code:-1 - https://api.spotify.com/v1/audio-features/?ids=4QhWbupniDd44EDtnh2bFJ:\n",
      " None, reason: None\n"
     ]
    },
    {
     "name": "stderr",
     "output_type": "stream",
     "text": [
      "HTTP Error for GET to https://api.spotify.com/v1/audio-features/?ids=0725YWm6Z0TpZ6wrNk64Eb with Params: {} returned 403 due to None\n"
     ]
    },
    {
     "name": "stdout",
     "output_type": "stream",
     "text": [
      "Error retrieving audio features for track Super Rich Kids (Track ID: 0725YWm6Z0TpZ6wrNk64Eb): http status: 403, code:-1 - https://api.spotify.com/v1/audio-features/?ids=0725YWm6Z0TpZ6wrNk64Eb:\n",
      " None, reason: None\n"
     ]
    },
    {
     "name": "stderr",
     "output_type": "stream",
     "text": [
      "HTTP Error for GET to https://api.spotify.com/v1/audio-features/?ids=0GROiXm03OrMC5ltXLhGIu with Params: {} returned 403 due to None\n"
     ]
    },
    {
     "name": "stdout",
     "output_type": "stream",
     "text": [
      "Error retrieving audio features for track The Party & The After Party (Track ID: 0GROiXm03OrMC5ltXLhGIu): http status: 403, code:-1 - https://api.spotify.com/v1/audio-features/?ids=0GROiXm03OrMC5ltXLhGIu:\n",
      " None, reason: None\n"
     ]
    },
    {
     "name": "stderr",
     "output_type": "stream",
     "text": [
      "HTTP Error for GET to https://api.spotify.com/v1/audio-features/?ids=2r7BPog74oaTG5shNYiUnV with Params: {} returned 403 due to None\n"
     ]
    },
    {
     "name": "stdout",
     "output_type": "stream",
     "text": [
      "Error retrieving audio features for track House Of Balloons / Glass Table Girls (Track ID: 2r7BPog74oaTG5shNYiUnV): http status: 403, code:-1 - https://api.spotify.com/v1/audio-features/?ids=2r7BPog74oaTG5shNYiUnV:\n",
      " None, reason: None\n"
     ]
    },
    {
     "name": "stderr",
     "output_type": "stream",
     "text": [
      "HTTP Error for GET to https://api.spotify.com/v1/audio-features/?ids=1NhjYYcYTRywc0di98xHxf with Params: {} returned 403 due to None\n",
      "HTTP Error for GET to https://api.spotify.com/v1/audio-features/?ids=4YZbVct8l9MnAVIROnLQdx with Params: {} returned 403 due to None\n"
     ]
    },
    {
     "name": "stdout",
     "output_type": "stream",
     "text": [
      "Error retrieving audio features for track Here We Go… Again (feat. Tyler, the Creator) (Track ID: 1NhjYYcYTRywc0di98xHxf): http status: 403, code:-1 - https://api.spotify.com/v1/audio-features/?ids=1NhjYYcYTRywc0di98xHxf:\n",
      " None, reason: None\n",
      "Error retrieving audio features for track Forrest Gump (Track ID: 4YZbVct8l9MnAVIROnLQdx): http status: 403, code:-1 - https://api.spotify.com/v1/audio-features/?ids=4YZbVct8l9MnAVIROnLQdx:\n",
      " None, reason: None\n"
     ]
    },
    {
     "name": "stderr",
     "output_type": "stream",
     "text": [
      "HTTP Error for GET to https://api.spotify.com/v1/audio-features/?ids=4osgfFTICMkcGbbigdsa53 with Params: {} returned 403 due to None\n",
      "HTTP Error for GET to https://api.spotify.com/v1/audio-features/?ids=2LMkwUfqC6S6s6qDVlEuzV with Params: {} returned 403 due to None\n"
     ]
    },
    {
     "name": "stdout",
     "output_type": "stream",
     "text": [
      "Error retrieving audio features for track Novacane (Track ID: 4osgfFTICMkcGbbigdsa53): http status: 403, code:-1 - https://api.spotify.com/v1/audio-features/?ids=4osgfFTICMkcGbbigdsa53:\n",
      " None, reason: None\n",
      "Error retrieving audio features for track White Ferrari (Track ID: 2LMkwUfqC6S6s6qDVlEuzV): http status: 403, code:-1 - https://api.spotify.com/v1/audio-features/?ids=2LMkwUfqC6S6s6qDVlEuzV:\n",
      " None, reason: None\n"
     ]
    },
    {
     "name": "stderr",
     "output_type": "stream",
     "text": [
      "HTTP Error for GET to https://api.spotify.com/v1/audio-features/?ids=3s7MCdXyWmwjdcWh7GWXas with Params: {} returned 403 due to None\n",
      "HTTP Error for GET to https://api.spotify.com/v1/audio-features/?ids=1UGD3lW3tDmgZfAVDh6w7r with Params: {} returned 403 due to None\n"
     ]
    },
    {
     "name": "stdout",
     "output_type": "stream",
     "text": [
      "Error retrieving audio features for track Violent Crimes (Track ID: 3s7MCdXyWmwjdcWh7GWXas): http status: 403, code:-1 - https://api.spotify.com/v1/audio-features/?ids=3s7MCdXyWmwjdcWh7GWXas:\n",
      " None, reason: None\n",
      "Error retrieving audio features for track Devil In A New Dress (Track ID: 1UGD3lW3tDmgZfAVDh6w7r): http status: 403, code:-1 - https://api.spotify.com/v1/audio-features/?ids=1UGD3lW3tDmgZfAVDh6w7r:\n",
      " None, reason: None\n"
     ]
    },
    {
     "name": "stderr",
     "output_type": "stream",
     "text": [
      "HTTP Error for GET to https://api.spotify.com/v1/audio-features/?ids=7rbECVPkY5UODxoOUVKZnA with Params: {} returned 403 due to None\n",
      "HTTP Error for GET to https://api.spotify.com/v1/audio-features/?ids=2D4dV2KXDTszzJ3p3cFqhA with Params: {} returned 403 due to None\n"
     ]
    },
    {
     "name": "stdout",
     "output_type": "stream",
     "text": [
      "Error retrieving audio features for track I Wonder (Track ID: 7rbECVPkY5UODxoOUVKZnA): http status: 403, code:-1 - https://api.spotify.com/v1/audio-features/?ids=7rbECVPkY5UODxoOUVKZnA:\n",
      " None, reason: None\n",
      "Error retrieving audio features for track Less Than Zero (Track ID: 2D4dV2KXDTszzJ3p3cFqhA): http status: 403, code:-1 - https://api.spotify.com/v1/audio-features/?ids=2D4dV2KXDTszzJ3p3cFqhA:\n",
      " None, reason: None\n"
     ]
    },
    {
     "name": "stderr",
     "output_type": "stream",
     "text": [
      "HTTP Error for GET to https://api.spotify.com/v1/audio-features/?ids=6GGmABM6AMwMzEhK7szqJT with Params: {} returned 403 due to None\n"
     ]
    },
    {
     "name": "stdout",
     "output_type": "stream",
     "text": [
      "Error retrieving audio features for track Pink Dolphin Sunset (feat. Tee) (Track ID: 6GGmABM6AMwMzEhK7szqJT): http status: 403, code:-1 - https://api.spotify.com/v1/audio-features/?ids=6GGmABM6AMwMzEhK7szqJT:\n",
      " None, reason: None\n"
     ]
    },
    {
     "name": "stderr",
     "output_type": "stream",
     "text": [
      "HTTP Error for GET to https://api.spotify.com/v1/audio-features/?ids=6NMtzpDQBTOfJwMzgMX0zl with Params: {} returned 403 due to None\n"
     ]
    },
    {
     "name": "stdout",
     "output_type": "stream",
     "text": [
      "Error retrieving audio features for track SKELETONS (Track ID: 6NMtzpDQBTOfJwMzgMX0zl): http status: 403, code:-1 - https://api.spotify.com/v1/audio-features/?ids=6NMtzpDQBTOfJwMzgMX0zl:\n",
      " None, reason: None\n"
     ]
    },
    {
     "name": "stderr",
     "output_type": "stream",
     "text": [
      "HTTP Error for GET to https://api.spotify.com/v1/audio-features/?ids=51EC3I1nQXpec4gDk0mQyP with Params: {} returned 403 due to None\n"
     ]
    },
    {
     "name": "stdout",
     "output_type": "stream",
     "text": [
      "Error retrieving audio features for track 90210 (feat. Kacy Hill) (Track ID: 51EC3I1nQXpec4gDk0mQyP): http status: 403, code:-1 - https://api.spotify.com/v1/audio-features/?ids=51EC3I1nQXpec4gDk0mQyP:\n",
      " None, reason: None\n"
     ]
    },
    {
     "name": "stderr",
     "output_type": "stream",
     "text": [
      "HTTP Error for GET to https://api.spotify.com/v1/audio-features/?ids=1eQBEelI2NCy7AUTerX0KS with Params: {} returned 403 due to None\n",
      "HTTP Error for GET to https://api.spotify.com/v1/audio-features/?ids=2qTzVCeWC2OY28r7gHagAa with Params: {} returned 403 due to None\n"
     ]
    },
    {
     "name": "stdout",
     "output_type": "stream",
     "text": [
      "Error retrieving audio features for track Ultralight Beam (Track ID: 1eQBEelI2NCy7AUTerX0KS): http status: 403, code:-1 - https://api.spotify.com/v1/audio-features/?ids=1eQBEelI2NCy7AUTerX0KS:\n",
      " None, reason: None\n",
      "Error retrieving audio features for track Patience (feat. Don Toliver) (Track ID: 2qTzVCeWC2OY28r7gHagAa): http status: 403, code:-1 - https://api.spotify.com/v1/audio-features/?ids=2qTzVCeWC2OY28r7gHagAa:\n",
      " None, reason: None\n"
     ]
    },
    {
     "name": "stderr",
     "output_type": "stream",
     "text": [
      "HTTP Error for GET to https://api.spotify.com/v1/audio-features/?ids=3mHO1J6kfiArjBo1zhLFGP with Params: {} returned 403 due to None\n"
     ]
    },
    {
     "name": "stdout",
     "output_type": "stream",
     "text": [
      "Error retrieving audio features for track Coming Down (Track ID: 3mHO1J6kfiArjBo1zhLFGP): http status: 403, code:-1 - https://api.spotify.com/v1/audio-features/?ids=3mHO1J6kfiArjBo1zhLFGP:\n",
      " None, reason: None\n"
     ]
    },
    {
     "name": "stderr",
     "output_type": "stream",
     "text": [
      "HTTP Error for GET to https://api.spotify.com/v1/audio-features/?ids=634tM1Us7Z6bsbZhRbrRr2 with Params: {} returned 403 due to None\n",
      "HTTP Error for GET to https://api.spotify.com/v1/audio-features/?ids=53qYItjefG5SUf62428dIw with Params: {} returned 403 due to None\n"
     ]
    },
    {
     "name": "stdout",
     "output_type": "stream",
     "text": [
      "Error retrieving audio features for track Kiss Land (Track ID: 634tM1Us7Z6bsbZhRbrRr2): http status: 403, code:-1 - https://api.spotify.com/v1/audio-features/?ids=634tM1Us7Z6bsbZhRbrRr2:\n",
      " None, reason: None\n",
      "Error retrieving audio features for track The Zone (Track ID: 53qYItjefG5SUf62428dIw): http status: 403, code:-1 - https://api.spotify.com/v1/audio-features/?ids=53qYItjefG5SUf62428dIw:\n",
      " None, reason: None\n"
     ]
    },
    {
     "name": "stderr",
     "output_type": "stream",
     "text": [
      "HTTP Error for GET to https://api.spotify.com/v1/audio-features/?ids=2Gyc6e2cLxA5hoX1NOvYnU with Params: {} returned 403 due to None\n"
     ]
    },
    {
     "name": "stdout",
     "output_type": "stream",
     "text": [
      "Error retrieving audio features for track Say It (Track ID: 2Gyc6e2cLxA5hoX1NOvYnU): http status: 403, code:-1 - https://api.spotify.com/v1/audio-features/?ids=2Gyc6e2cLxA5hoX1NOvYnU:\n",
      " None, reason: None\n"
     ]
    },
    {
     "name": "stderr",
     "output_type": "stream",
     "text": [
      "HTTP Error for GET to https://api.spotify.com/v1/audio-features/?ids=2qlBAT108lYOzlXhBxBqEv with Params: {} returned 403 due to None\n",
      "HTTP Error for GET to https://api.spotify.com/v1/audio-features/?ids=2pMPWE7PJH1PizfgGRMnR9 with Params: {} returned 403 due to None\n"
     ]
    },
    {
     "name": "stdout",
     "output_type": "stream",
     "text": [
      "Error retrieving audio features for track Home (Metro Boomin & Don Toliver, Lil Uzi Vert) (Track ID: 2qlBAT108lYOzlXhBxBqEv): http status: 403, code:-1 - https://api.spotify.com/v1/audio-features/?ids=2qlBAT108lYOzlXhBxBqEv:\n",
      " None, reason: None\n",
      "Error retrieving audio features for track Bad Religion (Track ID: 2pMPWE7PJH1PizfgGRMnR9): http status: 403, code:-1 - https://api.spotify.com/v1/audio-features/?ids=2pMPWE7PJH1PizfgGRMnR9:\n",
      " None, reason: None\n"
     ]
    },
    {
     "name": "stderr",
     "output_type": "stream",
     "text": [
      "HTTP Error for GET to https://api.spotify.com/v1/audio-features/?ids=6C6fHTuFUxVtJpBOOaMvJr with Params: {} returned 403 due to None\n",
      "HTTP Error for GET to https://api.spotify.com/v1/audio-features/?ids=5lcyIeEfwZTs8Ajw3kdF7P with Params: {} returned 403 due to None\n"
     ]
    },
    {
     "name": "stdout",
     "output_type": "stream",
     "text": [
      "Error retrieving audio features for track Shameless (Track ID: 6C6fHTuFUxVtJpBOOaMvJr): http status: 403, code:-1 - https://api.spotify.com/v1/audio-features/?ids=6C6fHTuFUxVtJpBOOaMvJr:\n",
      " None, reason: None\n",
      "Error retrieving audio features for track Crack Rock (Track ID: 5lcyIeEfwZTs8Ajw3kdF7P): http status: 403, code:-1 - https://api.spotify.com/v1/audio-features/?ids=5lcyIeEfwZTs8Ajw3kdF7P:\n",
      " None, reason: None\n"
     ]
    },
    {
     "name": "stderr",
     "output_type": "stream",
     "text": [
      "HTTP Error for GET to https://api.spotify.com/v1/audio-features/?ids=49sXkAcR5LvOrtq5Qcn5cf with Params: {} returned 403 due to None\n"
     ]
    },
    {
     "name": "stdout",
     "output_type": "stream",
     "text": [
      "Error retrieving audio features for track Superpower (feat. Frank Ocean) (Track ID: 49sXkAcR5LvOrtq5Qcn5cf): http status: 403, code:-1 - https://api.spotify.com/v1/audio-features/?ids=49sXkAcR5LvOrtq5Qcn5cf:\n",
      " None, reason: None\n"
     ]
    },
    {
     "name": "stderr",
     "output_type": "stream",
     "text": [
      "HTTP Error for GET to https://api.spotify.com/v1/audio-features/?ids=5GUYJTQap5F3RDQiCOJhrS with Params: {} returned 403 due to None\n"
     ]
    },
    {
     "name": "stdout",
     "output_type": "stream",
     "text": [
      "Error retrieving audio features for track Self Control (Track ID: 5GUYJTQap5F3RDQiCOJhrS): http status: 403, code:-1 - https://api.spotify.com/v1/audio-features/?ids=5GUYJTQap5F3RDQiCOJhrS:\n",
      " None, reason: None\n"
     ]
    },
    {
     "name": "stderr",
     "output_type": "stream",
     "text": [
      "HTTP Error for GET to https://api.spotify.com/v1/audio-features/?ids=1fOkmYW3ZFkkjIdOZSf596 with Params: {} returned 403 due to None\n",
      "HTTP Error for GET to https://api.spotify.com/v1/audio-features/?ids=2q0VexHJirnUPnEOhr2DxK with Params: {} returned 403 due to None\n"
     ]
    },
    {
     "name": "stdout",
     "output_type": "stream",
     "text": [
      "Error retrieving audio features for track Pink Matter (Track ID: 1fOkmYW3ZFkkjIdOZSf596): http status: 403, code:-1 - https://api.spotify.com/v1/audio-features/?ids=1fOkmYW3ZFkkjIdOZSf596:\n",
      " None, reason: None\n",
      "Error retrieving audio features for track Biking (Track ID: 2q0VexHJirnUPnEOhr2DxK): http status: 403, code:-1 - https://api.spotify.com/v1/audio-features/?ids=2q0VexHJirnUPnEOhr2DxK:\n",
      " None, reason: None\n"
     ]
    },
    {
     "name": "stderr",
     "output_type": "stream",
     "text": [
      "HTTP Error for GET to https://api.spotify.com/v1/audio-features/?ids=6vnfObZ4Ys70SBAtti1xZ9 with Params: {} returned 403 due to None\n"
     ]
    },
    {
     "name": "stdout",
     "output_type": "stream",
     "text": [
      "Error retrieving audio features for track COFFEE BEAN (Track ID: 6vnfObZ4Ys70SBAtti1xZ9): http status: 403, code:-1 - https://api.spotify.com/v1/audio-features/?ids=6vnfObZ4Ys70SBAtti1xZ9:\n",
      " None, reason: None\n"
     ]
    },
    {
     "name": "stderr",
     "output_type": "stream",
     "text": [
      "HTTP Error for GET to https://api.spotify.com/v1/audio-features/?ids=0xXGklgPEKlLdXNEuucFPY with Params: {} returned 403 due to None\n"
     ]
    },
    {
     "name": "stdout",
     "output_type": "stream",
     "text": [
      "Error retrieving audio features for track Driving to Hawaii - Juniper Version (Track ID: 0xXGklgPEKlLdXNEuucFPY): http status: 403, code:-1 - https://api.spotify.com/v1/audio-features/?ids=0xXGklgPEKlLdXNEuucFPY:\n",
      " None, reason: None\n"
     ]
    },
    {
     "name": "stderr",
     "output_type": "stream",
     "text": [
      "HTTP Error for GET to https://api.spotify.com/v1/audio-features/?ids=0HAqq2GcQKyi3s87GuN7jU with Params: {} returned 403 due to None\n"
     ]
    },
    {
     "name": "stdout",
     "output_type": "stream",
     "text": [
      "Error retrieving audio features for track Amoeba (Track ID: 0HAqq2GcQKyi3s87GuN7jU): http status: 403, code:-1 - https://api.spotify.com/v1/audio-features/?ids=0HAqq2GcQKyi3s87GuN7jU:\n",
      " None, reason: None\n"
     ]
    },
    {
     "name": "stderr",
     "output_type": "stream",
     "text": [
      "HTTP Error for GET to https://api.spotify.com/v1/audio-features/?ids=5wTVNpi5WDByxBgKgUE6MU with Params: {} returned 403 due to None\n",
      "HTTP Error for GET to https://api.spotify.com/v1/audio-features/?ids=593W4qZOwwdqF6YnimJjL6 with Params: {} returned 403 due to None\n"
     ]
    },
    {
     "name": "stdout",
     "output_type": "stream",
     "text": [
      "Error retrieving audio features for track Supermodel (Track ID: 5wTVNpi5WDByxBgKgUE6MU): http status: 403, code:-1 - https://api.spotify.com/v1/audio-features/?ids=5wTVNpi5WDByxBgKgUE6MU:\n",
      " None, reason: None\n",
      "Error retrieving audio features for track Doves In The Wind (feat. Kendrick Lamar) (Track ID: 593W4qZOwwdqF6YnimJjL6): http status: 403, code:-1 - https://api.spotify.com/v1/audio-features/?ids=593W4qZOwwdqF6YnimJjL6:\n",
      " None, reason: None\n"
     ]
    },
    {
     "name": "stderr",
     "output_type": "stream",
     "text": [
      "HTTP Error for GET to https://api.spotify.com/v1/audio-features/?ids=0q75NwOoFiARAVp4EXU4Bs with Params: {} returned 403 due to None\n",
      "HTTP Error for GET to https://api.spotify.com/v1/audio-features/?ids=06u5LrUpbosQlQ1QJFhPpG with Params: {} returned 403 due to None\n"
     ]
    },
    {
     "name": "stdout",
     "output_type": "stream",
     "text": [
      "Error retrieving audio features for track Love Galore (feat. Travis Scott) (Track ID: 0q75NwOoFiARAVp4EXU4Bs): http status: 403, code:-1 - https://api.spotify.com/v1/audio-features/?ids=0q75NwOoFiARAVp4EXU4Bs:\n",
      " None, reason: None\n",
      "Error retrieving audio features for track Drew Barrymore (Track ID: 06u5LrUpbosQlQ1QJFhPpG): http status: 403, code:-1 - https://api.spotify.com/v1/audio-features/?ids=06u5LrUpbosQlQ1QJFhPpG:\n",
      " None, reason: None\n"
     ]
    },
    {
     "name": "stderr",
     "output_type": "stream",
     "text": [
      "HTTP Error for GET to https://api.spotify.com/v1/audio-features/?ids=5yvhdo8FXbBsIllxv2Rr94 with Params: {} returned 403 due to None\n",
      "HTTP Error for GET to https://api.spotify.com/v1/audio-features/?ids=6gU9OKjOE7ghfEd55oRO57 with Params: {} returned 403 due to None\n"
     ]
    },
    {
     "name": "stdout",
     "output_type": "stream",
     "text": [
      "Error retrieving audio features for track Prom (Track ID: 5yvhdo8FXbBsIllxv2Rr94): http status: 403, code:-1 - https://api.spotify.com/v1/audio-features/?ids=5yvhdo8FXbBsIllxv2Rr94:\n",
      " None, reason: None\n"
     ]
    },
    {
     "name": "stderr",
     "output_type": "stream",
     "text": [
      "HTTP Error for GET to https://api.spotify.com/v1/audio-features/?ids=7eqoqGkKwgOaWNNHx90uEZ with Params: {} returned 403 due to None\n"
     ]
    },
    {
     "name": "stdout",
     "output_type": "stream",
     "text": [
      "Error retrieving audio features for track The Weekend (Track ID: 6gU9OKjOE7ghfEd55oRO57): http status: 403, code:-1 - https://api.spotify.com/v1/audio-features/?ids=6gU9OKjOE7ghfEd55oRO57:\n",
      " None, reason: None\n",
      "Error retrieving audio features for track Nights (Track ID: 7eqoqGkKwgOaWNNHx90uEZ): http status: 403, code:-1 - https://api.spotify.com/v1/audio-features/?ids=7eqoqGkKwgOaWNNHx90uEZ:\n",
      " None, reason: None\n"
     ]
    },
    {
     "name": "stderr",
     "output_type": "stream",
     "text": [
      "HTTP Error for GET to https://api.spotify.com/v1/audio-features/?ids=2ZWlPOoWh0626oTaHrnl2a with Params: {} returned 403 due to None\n"
     ]
    },
    {
     "name": "stdout",
     "output_type": "stream",
     "text": [
      "Error retrieving audio features for track Ivy (Track ID: 2ZWlPOoWh0626oTaHrnl2a): http status: 403, code:-1 - https://api.spotify.com/v1/audio-features/?ids=2ZWlPOoWh0626oTaHrnl2a:\n",
      " None, reason: None\n"
     ]
    },
    {
     "name": "stderr",
     "output_type": "stream",
     "text": [
      "HTTP Error for GET to https://api.spotify.com/v1/audio-features/?ids=5mCPDVBb16L4XQwDdbRUpz with Params: {} returned 403 due to None\n",
      "HTTP Error for GET to https://api.spotify.com/v1/audio-features/?ids=4Wjhj0WjkyECccfHVIgaTq with Params: {} returned 403 due to None\n"
     ]
    },
    {
     "name": "stdout",
     "output_type": "stream",
     "text": [
      "Error retrieving audio features for track Passionfruit (Track ID: 5mCPDVBb16L4XQwDdbRUpz): http status: 403, code:-1 - https://api.spotify.com/v1/audio-features/?ids=5mCPDVBb16L4XQwDdbRUpz:\n",
      " None, reason: None\n",
      "Error retrieving audio features for track Trust Issues (Track ID: 4Wjhj0WjkyECccfHVIgaTq): http status: 403, code:-1 - https://api.spotify.com/v1/audio-features/?ids=4Wjhj0WjkyECccfHVIgaTq:\n",
      " None, reason: None\n"
     ]
    },
    {
     "name": "stderr",
     "output_type": "stream",
     "text": [
      "HTTP Error for GET to https://api.spotify.com/v1/audio-features/?ids=3XLSlQLJf3Ut0zvMUxnF1h with Params: {} returned 403 due to None\n",
      "HTTP Error for GET to https://api.spotify.com/v1/audio-features/?ids=6Vmow8PuUaU7W1T2WWLZk2 with Params: {} returned 403 due to None\n"
     ]
    },
    {
     "name": "stdout",
     "output_type": "stream",
     "text": [
      "Error retrieving audio features for track Houstatlantavegas (Track ID: 3XLSlQLJf3Ut0zvMUxnF1h): http status: 403, code:-1 - https://api.spotify.com/v1/audio-features/?ids=3XLSlQLJf3Ut0zvMUxnF1h:\n",
      " None, reason: None\n",
      "Error retrieving audio features for track Go Gina (Track ID: 6Vmow8PuUaU7W1T2WWLZk2): http status: 403, code:-1 - https://api.spotify.com/v1/audio-features/?ids=6Vmow8PuUaU7W1T2WWLZk2:\n",
      " None, reason: None\n"
     ]
    },
    {
     "name": "stderr",
     "output_type": "stream",
     "text": [
      "HTTP Error for GET to https://api.spotify.com/v1/audio-features/?ids=3OHfY25tqY28d16oZczHc8 with Params: {} returned 403 due to None\n",
      "HTTP Error for GET to https://api.spotify.com/v1/audio-features/?ids=1boXOL0ua7N2iCOUVI1p9F with Params: {} returned 403 due to None\n"
     ]
    },
    {
     "name": "stdout",
     "output_type": "stream",
     "text": [
      "Error retrieving audio features for track Kill Bill (Track ID: 3OHfY25tqY28d16oZczHc8): http status: 403, code:-1 - https://api.spotify.com/v1/audio-features/?ids=3OHfY25tqY28d16oZczHc8:\n",
      " None, reason: None\n",
      "Error retrieving audio features for track Japanese Denim (Track ID: 1boXOL0ua7N2iCOUVI1p9F): http status: 403, code:-1 - https://api.spotify.com/v1/audio-features/?ids=1boXOL0ua7N2iCOUVI1p9F:\n",
      " None, reason: None\n"
     ]
    },
    {
     "name": "stderr",
     "output_type": "stream",
     "text": [
      "HTTP Error for GET to https://api.spotify.com/v1/audio-features/?ids=19woxaSpjOefa2JnAOoqW5 with Params: {} returned 403 due to None\n"
     ]
    },
    {
     "name": "stdout",
     "output_type": "stream",
     "text": [
      "Error retrieving audio features for track Garden (Say It Like Dat) (Track ID: 19woxaSpjOefa2JnAOoqW5): http status: 403, code:-1 - https://api.spotify.com/v1/audio-features/?ids=19woxaSpjOefa2JnAOoqW5:\n",
      " None, reason: None\n"
     ]
    },
    {
     "name": "stderr",
     "output_type": "stream",
     "text": [
      "HTTP Error for GET to https://api.spotify.com/v1/audio-features/?ids=5pFFnDmAEzBnorhyKIZwer with Params: {} returned 403 due to None\n",
      "HTTP Error for GET to https://api.spotify.com/v1/audio-features/?ids=5H4ytJ5KQGg6f7uWYEnZ3T with Params: {} returned 403 due to None\n"
     ]
    },
    {
     "name": "stdout",
     "output_type": "stream",
     "text": [
      "Error retrieving audio features for track Tiny Dancer - Remastered 2016 (Track ID: 5pFFnDmAEzBnorhyKIZwer): http status: 403, code:-1 - https://api.spotify.com/v1/audio-features/?ids=5pFFnDmAEzBnorhyKIZwer:\n",
      " None, reason: None\n",
      "Error retrieving audio features for track Till Dawn (Here Comes The Sun) (Track ID: 5H4ytJ5KQGg6f7uWYEnZ3T): http status: 403, code:-1 - https://api.spotify.com/v1/audio-features/?ids=5H4ytJ5KQGg6f7uWYEnZ3T:\n",
      " None, reason: None\n"
     ]
    },
    {
     "name": "stderr",
     "output_type": "stream",
     "text": [
      "HTTP Error for GET to https://api.spotify.com/v1/audio-features/?ids=5fQBa4wkmq28xpSLOQ202K with Params: {} returned 403 due to None\n"
     ]
    },
    {
     "name": "stdout",
     "output_type": "stream",
     "text": [
      "Error retrieving audio features for track Normal Girl (Track ID: 5fQBa4wkmq28xpSLOQ202K): http status: 403, code:-1 - https://api.spotify.com/v1/audio-features/?ids=5fQBa4wkmq28xpSLOQ202K:\n",
      " None, reason: None\n"
     ]
    },
    {
     "name": "stderr",
     "output_type": "stream",
     "text": [
      "HTTP Error for GET to https://api.spotify.com/v1/audio-features/?ids=0Hs5enNuaAXmJssAybWbOw with Params: {} returned 403 due to None\n"
     ]
    },
    {
     "name": "stdout",
     "output_type": "stream",
     "text": [
      "Error retrieving audio features for track XO / The Host (Track ID: 0Hs5enNuaAXmJssAybWbOw): http status: 403, code:-1 - https://api.spotify.com/v1/audio-features/?ids=0Hs5enNuaAXmJssAybWbOw:\n",
      " None, reason: None\n"
     ]
    },
    {
     "name": "stderr",
     "output_type": "stream",
     "text": [
      "HTTP Error for GET to https://api.spotify.com/v1/audio-features/?ids=2yYDijitHN6psA2tH0ndXs with Params: {} returned 403 due to None\n",
      "HTTP Error for GET to https://api.spotify.com/v1/audio-features/?ids=4gh0ZnHzaTMT1sDga7Ek0N with Params: {} returned 403 due to None\n"
     ]
    },
    {
     "name": "stdout",
     "output_type": "stream",
     "text": [
      "Error retrieving audio features for track The Birds Pt. 2 (Track ID: 2yYDijitHN6psA2tH0ndXs): http status: 403, code:-1 - https://api.spotify.com/v1/audio-features/?ids=2yYDijitHN6psA2tH0ndXs:\n",
      " None, reason: None\n",
      "Error retrieving audio features for track sdp interlude (Track ID: 4gh0ZnHzaTMT1sDga7Ek0N): http status: 403, code:-1 - https://api.spotify.com/v1/audio-features/?ids=4gh0ZnHzaTMT1sDga7Ek0N:\n",
      " None, reason: None\n"
     ]
    },
    {
     "name": "stderr",
     "output_type": "stream",
     "text": [
      "HTTP Error for GET to https://api.spotify.com/v1/audio-features/?ids=4jBfUB4kQJCWOrjGLQqhO0 with Params: {} returned 403 due to None\n",
      "HTTP Error for GET to https://api.spotify.com/v1/audio-features/?ids=4h6ViRoztTBpWcJ1zFT9Zg with Params: {} returned 403 due to None\n"
     ]
    },
    {
     "name": "stdout",
     "output_type": "stream",
     "text": [
      "Error retrieving audio features for track The Morning (Track ID: 4jBfUB4kQJCWOrjGLQqhO0): http status: 403, code:-1 - https://api.spotify.com/v1/audio-features/?ids=4jBfUB4kQJCWOrjGLQqhO0:\n",
      " None, reason: None\n",
      "Error retrieving audio features for track 20 Something (Track ID: 4h6ViRoztTBpWcJ1zFT9Zg): http status: 403, code:-1 - https://api.spotify.com/v1/audio-features/?ids=4h6ViRoztTBpWcJ1zFT9Zg:\n",
      " None, reason: None\n"
     ]
    },
    {
     "name": "stderr",
     "output_type": "stream",
     "text": [
      "HTTP Error for GET to https://api.spotify.com/v1/audio-features/?ids=7HnkUNPrhRurdGEm9nRYFH with Params: {} returned 403 due to None\n"
     ]
    },
    {
     "name": "stdout",
     "output_type": "stream",
     "text": [
      "Error retrieving audio features for track Death & Taxes (Track ID: 7HnkUNPrhRurdGEm9nRYFH): http status: 403, code:-1 - https://api.spotify.com/v1/audio-features/?ids=7HnkUNPrhRurdGEm9nRYFH:\n",
      " None, reason: None\n"
     ]
    },
    {
     "name": "stderr",
     "output_type": "stream",
     "text": [
      "HTTP Error for GET to https://api.spotify.com/v1/audio-features/?ids=5bPZPEsUACrQXER6FcMs7F with Params: {} returned 403 due to None\n"
     ]
    },
    {
     "name": "stdout",
     "output_type": "stream",
     "text": [
      "Error retrieving audio features for track Paradise (feat. Badbadnotgood & Sean Leon) (Track ID: 5bPZPEsUACrQXER6FcMs7F): http status: 403, code:-1 - https://api.spotify.com/v1/audio-features/?ids=5bPZPEsUACrQXER6FcMs7F:\n",
      " None, reason: None\n"
     ]
    },
    {
     "name": "stderr",
     "output_type": "stream",
     "text": [
      "HTTP Error for GET to https://api.spotify.com/v1/audio-features/?ids=3CgZCQyuyxHRMWB9BTwmni with Params: {} returned 403 due to None\n",
      "HTTP Error for GET to https://api.spotify.com/v1/audio-features/?ids=7Cu2COdH93MnuireuKNiS3 with Params: {} returned 403 due to None\n"
     ]
    },
    {
     "name": "stdout",
     "output_type": "stream",
     "text": [
      "Error retrieving audio features for track Swim Good (Track ID: 3CgZCQyuyxHRMWB9BTwmni): http status: 403, code:-1 - https://api.spotify.com/v1/audio-features/?ids=3CgZCQyuyxHRMWB9BTwmni:\n",
      " None, reason: None\n",
      "Error retrieving audio features for track Streetcar (Track ID: 7Cu2COdH93MnuireuKNiS3): http status: 403, code:-1 - https://api.spotify.com/v1/audio-features/?ids=7Cu2COdH93MnuireuKNiS3:\n",
      " None, reason: None\n"
     ]
    },
    {
     "name": "stderr",
     "output_type": "stream",
     "text": [
      "HTTP Error for GET to https://api.spotify.com/v1/audio-features/?ids=6j8gTlbhj9KJSeypNcNAS9 with Params: {} returned 403 due to None\n"
     ]
    },
    {
     "name": "stdout",
     "output_type": "stream",
     "text": [
      "Error retrieving audio features for track Street Lights (Track ID: 6j8gTlbhj9KJSeypNcNAS9): http status: 403, code:-1 - https://api.spotify.com/v1/audio-features/?ids=6j8gTlbhj9KJSeypNcNAS9:\n",
      " None, reason: None\n"
     ]
    },
    {
     "name": "stderr",
     "output_type": "stream",
     "text": [
      "HTTP Error for GET to https://api.spotify.com/v1/audio-features/?ids=2ye9iWj5V4g6k6HFeTTAKa with Params: {} returned 403 due to None\n",
      "HTTP Error for GET to https://api.spotify.com/v1/audio-features/?ids=4Yw8TyBm9J8cpy2guHUYog with Params: {} returned 403 due to None\n"
     ]
    },
    {
     "name": "stdout",
     "output_type": "stream",
     "text": [
      "Error retrieving audio features for track High For This (Track ID: 2ye9iWj5V4g6k6HFeTTAKa): http status: 403, code:-1 - https://api.spotify.com/v1/audio-features/?ids=2ye9iWj5V4g6k6HFeTTAKa:\n",
      " None, reason: None\n",
      "Error retrieving audio features for track What You Need (Track ID: 4Yw8TyBm9J8cpy2guHUYog): http status: 403, code:-1 - https://api.spotify.com/v1/audio-features/?ids=4Yw8TyBm9J8cpy2guHUYog:\n",
      " None, reason: None\n"
     ]
    },
    {
     "name": "stderr",
     "output_type": "stream",
     "text": [
      "HTTP Error for GET to https://api.spotify.com/v1/audio-features/?ids=02LAK7qT1wya0klSeNO96f with Params: {} returned 403 due to None\n",
      "HTTP Error for GET to https://api.spotify.com/v1/audio-features/?ids=047fCsbO4NdmwCBn8pcUXl with Params: {} returned 403 due to None\n"
     ]
    },
    {
     "name": "stdout",
     "output_type": "stream",
     "text": [
      "Error retrieving audio features for track RoboCop (Track ID: 02LAK7qT1wya0klSeNO96f): http status: 403, code:-1 - https://api.spotify.com/v1/audio-features/?ids=02LAK7qT1wya0klSeNO96f:\n",
      " None, reason: None\n",
      "Error retrieving audio features for track Marvins Room (Track ID: 047fCsbO4NdmwCBn8pcUXl): http status: 403, code:-1 - https://api.spotify.com/v1/audio-features/?ids=047fCsbO4NdmwCBn8pcUXl:\n",
      " None, reason: None\n"
     ]
    },
    {
     "name": "stderr",
     "output_type": "stream",
     "text": [
      "HTTP Error for GET to https://api.spotify.com/v1/audio-features/?ids=7zFXmv6vqI4qOt4yGf3jYZ with Params: {} returned 403 due to None\n"
     ]
    },
    {
     "name": "stdout",
     "output_type": "stream",
     "text": [
      "Error retrieving audio features for track Get You (feat. Kali Uchis) (Track ID: 7zFXmv6vqI4qOt4yGf3jYZ): http status: 403, code:-1 - https://api.spotify.com/v1/audio-features/?ids=7zFXmv6vqI4qOt4yGf3jYZ:\n",
      " None, reason: None\n"
     ]
    },
    {
     "name": "stderr",
     "output_type": "stream",
     "text": [
      "HTTP Error for GET to https://api.spotify.com/v1/audio-features/?ids=1RMJOxR6GRPsBHL8qeC2ux with Params: {} returned 403 due to None\n",
      "HTTP Error for GET to https://api.spotify.com/v1/audio-features/?ids=3SPfACAarZmNEF45erapCY with Params: {} returned 403 due to None\n"
     ]
    },
    {
     "name": "stdout",
     "output_type": "stream",
     "text": [
      "Error retrieving audio features for track Best Part (feat. H.E.R.) (Track ID: 1RMJOxR6GRPsBHL8qeC2ux): http status: 403, code:-1 - https://api.spotify.com/v1/audio-features/?ids=1RMJOxR6GRPsBHL8qeC2ux:\n",
      " None, reason: None\n",
      "Error retrieving audio features for track Neu Roses (Transgressor's Song) (Track ID: 3SPfACAarZmNEF45erapCY): http status: 403, code:-1 - https://api.spotify.com/v1/audio-features/?ids=3SPfACAarZmNEF45erapCY:\n",
      " None, reason: None\n"
     ]
    },
    {
     "name": "stderr",
     "output_type": "stream",
     "text": [
      "HTTP Error for GET to https://api.spotify.com/v1/audio-features/?ids=3E895HtTn6lB40SA0l9EkL with Params: {} returned 403 due to None\n"
     ]
    },
    {
     "name": "stdout",
     "output_type": "stream",
     "text": [
      "Error retrieving audio features for track Take Me Away (feat. Syd) (Track ID: 3E895HtTn6lB40SA0l9EkL): http status: 403, code:-1 - https://api.spotify.com/v1/audio-features/?ids=3E895HtTn6lB40SA0l9EkL:\n",
      " None, reason: None\n"
     ]
    },
    {
     "name": "stderr",
     "output_type": "stream",
     "text": [
      "HTTP Error for GET to https://api.spotify.com/v1/audio-features/?ids=1jQfgl9WRle7D8a3GXLwaD with Params: {} returned 403 due to None\n",
      "HTTP Error for GET to https://api.spotify.com/v1/audio-features/?ids=13e6f8t7RKXuxZ0JdaaJRG with Params: {} returned 403 due to None\n"
     ]
    },
    {
     "name": "stdout",
     "output_type": "stream",
     "text": [
      "Error retrieving audio features for track Transform (feat. Charlotte Day Wilson) (Track ID: 1jQfgl9WRle7D8a3GXLwaD): http status: 403, code:-1 - https://api.spotify.com/v1/audio-features/?ids=1jQfgl9WRle7D8a3GXLwaD:\n",
      " None, reason: None\n",
      "Error retrieving audio features for track Jorja Interlude (Track ID: 13e6f8t7RKXuxZ0JdaaJRG): http status: 403, code:-1 - https://api.spotify.com/v1/audio-features/?ids=13e6f8t7RKXuxZ0JdaaJRG:\n",
      " None, reason: None\n"
     ]
    },
    {
     "name": "stderr",
     "output_type": "stream",
     "text": [
      "HTTP Error for GET to https://api.spotify.com/v1/audio-features/?ids=71WT6kvVYlGba71B65JrH4 with Params: {} returned 403 due to None\n",
      "HTTP Error for GET to https://api.spotify.com/v1/audio-features/?ids=7B3z0ySL9Rr0XvZEAjWZzM with Params: {} returned 403 due to None\n"
     ]
    },
    {
     "name": "stdout",
     "output_type": "stream",
     "text": [
      "Error retrieving audio features for track Impossible (Track ID: 71WT6kvVYlGba71B65JrH4): http status: 403, code:-1 - https://api.spotify.com/v1/audio-features/?ids=71WT6kvVYlGba71B65JrH4:\n",
      " None, reason: None\n",
      "Error retrieving audio features for track Sofia (Track ID: 7B3z0ySL9Rr0XvZEAjWZzM): http status: 403, code:-1 - https://api.spotify.com/v1/audio-features/?ids=7B3z0ySL9Rr0XvZEAjWZzM:\n",
      " None, reason: None\n"
     ]
    },
    {
     "name": "stderr",
     "output_type": "stream",
     "text": [
      "HTTP Error for GET to https://api.spotify.com/v1/audio-features/?ids=795p3jKj5stjPf8IFpZkdD with Params: {} returned 403 due to None\n"
     ]
    },
    {
     "name": "stdout",
     "output_type": "stream",
     "text": [
      "Error retrieving audio features for track ENTROPY (Track ID: 795p3jKj5stjPf8IFpZkdD): http status: 403, code:-1 - https://api.spotify.com/v1/audio-features/?ids=795p3jKj5stjPf8IFpZkdD:\n",
      " None, reason: None\n"
     ]
    },
    {
     "name": "stderr",
     "output_type": "stream",
     "text": [
      "HTTP Error for GET to https://api.spotify.com/v1/audio-features/?ids=3uouaAVXpQR3X8RYkJyitQ with Params: {} returned 403 due to None\n",
      "HTTP Error for GET to https://api.spotify.com/v1/audio-features/?ids=2fhePAlCSsJplwkjqMYpVm with Params: {} returned 403 due to None\n"
     ]
    },
    {
     "name": "stdout",
     "output_type": "stream",
     "text": [
      "Error retrieving audio features for track CYANIDE (Track ID: 3uouaAVXpQR3X8RYkJyitQ): http status: 403, code:-1 - https://api.spotify.com/v1/audio-features/?ids=3uouaAVXpQR3X8RYkJyitQ:\n",
      " None, reason: None\n",
      "Error retrieving audio features for track LOVE AGAIN (Track ID: 2fhePAlCSsJplwkjqMYpVm): http status: 403, code:-1 - https://api.spotify.com/v1/audio-features/?ids=2fhePAlCSsJplwkjqMYpVm:\n",
      " None, reason: None\n"
     ]
    },
    {
     "name": "stderr",
     "output_type": "stream",
     "text": [
      "HTTP Error for GET to https://api.spotify.com/v1/audio-features/?ids=63UNqAjFomMcZXc2InOxTC with Params: {} returned 403 due to None\n",
      "HTTP Error for GET to https://api.spotify.com/v1/audio-features/?ids=2hSwwIRD8sahfwQGjFdixz with Params: {} returned 403 due to None\n"
     ]
    },
    {
     "name": "stdout",
     "output_type": "stream",
     "text": [
      "Error retrieving audio features for track TOO DEEP TO TURN BACK (Track ID: 63UNqAjFomMcZXc2InOxTC): http status: 403, code:-1 - https://api.spotify.com/v1/audio-features/?ids=63UNqAjFomMcZXc2InOxTC:\n",
      " None, reason: None\n",
      "Error retrieving audio features for track ARE YOU OK? (Track ID: 2hSwwIRD8sahfwQGjFdixz): http status: 403, code:-1 - https://api.spotify.com/v1/audio-features/?ids=2hSwwIRD8sahfwQGjFdixz:\n",
      " None, reason: None\n"
     ]
    },
    {
     "name": "stderr",
     "output_type": "stream",
     "text": [
      "HTTP Error for GET to https://api.spotify.com/v1/audio-features/?ids=6PGoSes0D9eUDeeAafB2As with Params: {} returned 403 due to None\n",
      "HTTP Error for GET to https://api.spotify.com/v1/audio-features/?ids=6UFivO2zqqPFPoQYsEMuCc with Params: {} returned 403 due to None\n"
     ]
    },
    {
     "name": "stdout",
     "output_type": "stream",
     "text": [
      "Error retrieving audio features for track LOVE. FEAT. ZACARI. (Track ID: 6PGoSes0D9eUDeeAafB2As): http status: 403, code:-1 - https://api.spotify.com/v1/audio-features/?ids=6PGoSes0D9eUDeeAafB2As:\n",
      " None, reason: None\n",
      "Error retrieving audio features for track Bags (Track ID: 6UFivO2zqqPFPoQYsEMuCc): http status: 403, code:-1 - https://api.spotify.com/v1/audio-features/?ids=6UFivO2zqqPFPoQYsEMuCc:\n",
      " None, reason: None\n"
     ]
    },
    {
     "name": "stderr",
     "output_type": "stream",
     "text": [
      "HTTP Error for GET to https://api.spotify.com/v1/audio-features/?ids=4wajJ1o7jWIg62YqpkHC7S with Params: {} returned 403 due to None\n"
     ]
    },
    {
     "name": "stdout",
     "output_type": "stream",
     "text": [
      "Error retrieving audio features for track Weird Fishes / Arpeggi (Track ID: 4wajJ1o7jWIg62YqpkHC7S): http status: 403, code:-1 - https://api.spotify.com/v1/audio-features/?ids=4wajJ1o7jWIg62YqpkHC7S:\n",
      " None, reason: None\n"
     ]
    },
    {
     "name": "stderr",
     "output_type": "stream",
     "text": [
      "HTTP Error for GET to https://api.spotify.com/v1/audio-features/?ids=7JXZq0JgG2zTrSOAgY8VMC with Params: {} returned 403 due to None\n",
      "HTTP Error for GET to https://api.spotify.com/v1/audio-features/?ids=5mIOsPuQdXchVY0jB5NO9Q with Params: {} returned 403 due to None\n"
     ]
    },
    {
     "name": "stdout",
     "output_type": "stream",
     "text": [
      "Error retrieving audio features for track Jungle (Track ID: 7JXZq0JgG2zTrSOAgY8VMC): http status: 403, code:-1 - https://api.spotify.com/v1/audio-features/?ids=7JXZq0JgG2zTrSOAgY8VMC:\n",
      " None, reason: None\n",
      "Error retrieving audio features for track 4EVER (Track ID: 5mIOsPuQdXchVY0jB5NO9Q): http status: 403, code:-1 - https://api.spotify.com/v1/audio-features/?ids=5mIOsPuQdXchVY0jB5NO9Q:\n",
      " None, reason: None\n"
     ]
    },
    {
     "name": "stderr",
     "output_type": "stream",
     "text": [
      "HTTP Error for GET to https://api.spotify.com/v1/audio-features/?ids=6n3HGiq4v35D6eFOSwqYuo with Params: {} returned 403 due to None\n"
     ]
    },
    {
     "name": "stdout",
     "output_type": "stream",
     "text": [
      "Error retrieving audio features for track Teenage Fever (Track ID: 6n3HGiq4v35D6eFOSwqYuo): http status: 403, code:-1 - https://api.spotify.com/v1/audio-features/?ids=6n3HGiq4v35D6eFOSwqYuo:\n",
      " None, reason: None\n"
     ]
    },
    {
     "name": "stderr",
     "output_type": "stream",
     "text": [
      "HTTP Error for GET to https://api.spotify.com/v1/audio-features/?ids=30Zcjs7pgEkmJA1lEbGSWT with Params: {} returned 403 due to None\n"
     ]
    },
    {
     "name": "stdout",
     "output_type": "stream",
     "text": [
      "Error retrieving audio features for track FML (Track ID: 30Zcjs7pgEkmJA1lEbGSWT): http status: 403, code:-1 - https://api.spotify.com/v1/audio-features/?ids=30Zcjs7pgEkmJA1lEbGSWT:\n",
      " None, reason: None\n"
     ]
    },
    {
     "name": "stderr",
     "output_type": "stream",
     "text": [
      "HTTP Error for GET to https://api.spotify.com/v1/audio-features/?ids=432hUIl3ISDeytYW5XBQ5h with Params: {} returned 403 due to None\n"
     ]
    },
    {
     "name": "stdout",
     "output_type": "stream",
     "text": [
      "Error retrieving audio features for track Wolves (Track ID: 432hUIl3ISDeytYW5XBQ5h): http status: 403, code:-1 - https://api.spotify.com/v1/audio-features/?ids=432hUIl3ISDeytYW5XBQ5h:\n",
      " None, reason: None\n"
     ]
    },
    {
     "name": "stderr",
     "output_type": "stream",
     "text": [
      "HTTP Error for GET to https://api.spotify.com/v1/audio-features/?ids=20r94xA0bsYNLtYSiOE6r3 with Params: {} returned 403 due to None\n",
      "HTTP Error for GET to https://api.spotify.com/v1/audio-features/?ids=5FG7Tl93LdH117jEKYl3Cm with Params: {} returned 403 due to None\n"
     ]
    },
    {
     "name": "stdout",
     "output_type": "stream",
     "text": [
      "Error retrieving audio features for track Frank's Track (Track ID: 20r94xA0bsYNLtYSiOE6r3): http status: 403, code:-1 - https://api.spotify.com/v1/audio-features/?ids=20r94xA0bsYNLtYSiOE6r3:\n",
      " None, reason: None\n",
      "Error retrieving audio features for track Essence (feat. Tems) (Track ID: 5FG7Tl93LdH117jEKYl3Cm): http status: 403, code:-1 - https://api.spotify.com/v1/audio-features/?ids=5FG7Tl93LdH117jEKYl3Cm:\n",
      " None, reason: None\n"
     ]
    },
    {
     "name": "stderr",
     "output_type": "stream",
     "text": [
      "HTTP Error for GET to https://api.spotify.com/v1/audio-features/?ids=1i9lZvlaDdWDPyXEE95aiq with Params: {} returned 403 due to None\n",
      "HTTP Error for GET to https://api.spotify.com/v1/audio-features/?ids=7EiUtdeoWcKqLi5ELZCjYf with Params: {} returned 403 due to None\n"
     ]
    },
    {
     "name": "stdout",
     "output_type": "stream",
     "text": [
      "Error retrieving audio features for track TELEKINESIS (feat. SZA & Future) (Track ID: 1i9lZvlaDdWDPyXEE95aiq): http status: 403, code:-1 - https://api.spotify.com/v1/audio-features/?ids=1i9lZvlaDdWDPyXEE95aiq:\n",
      " None, reason: None\n",
      "Error retrieving audio features for track LOST FOREVER (feat. Westside Gunn) (Track ID: 7EiUtdeoWcKqLi5ELZCjYf): http status: 403, code:-1 - https://api.spotify.com/v1/audio-features/?ids=7EiUtdeoWcKqLi5ELZCjYf:\n",
      " None, reason: None\n"
     ]
    },
    {
     "name": "stderr",
     "output_type": "stream",
     "text": [
      "HTTP Error for GET to https://api.spotify.com/v1/audio-features/?ids=0OEe83mMZ5kaNw5uZQ7ilG with Params: {} returned 403 due to None\n",
      "HTTP Error for GET to https://api.spotify.com/v1/audio-features/?ids=2Q0aElTZQtEUsoiaQfizu6 with Params: {} returned 403 due to None\n"
     ]
    },
    {
     "name": "stdout",
     "output_type": "stream",
     "text": [
      "Error retrieving audio features for track DELRESTO (ECHOES) (feat. Beyoncé) (Track ID: 0OEe83mMZ5kaNw5uZQ7ilG): http status: 403, code:-1 - https://api.spotify.com/v1/audio-features/?ids=0OEe83mMZ5kaNw5uZQ7ilG:\n",
      " None, reason: None\n",
      "Error retrieving audio features for track PARASAIL (feat. Yung Lean & Dave Chappelle) (Track ID: 2Q0aElTZQtEUsoiaQfizu6): http status: 403, code:-1 - https://api.spotify.com/v1/audio-features/?ids=2Q0aElTZQtEUsoiaQfizu6:\n",
      " None, reason: None\n"
     ]
    },
    {
     "name": "stderr",
     "output_type": "stream",
     "text": [
      "HTTP Error for GET to https://api.spotify.com/v1/audio-features/?ids=3Osd3Yf8K73aj4ySn6LrvK with Params: {} returned 403 due to None\n"
     ]
    },
    {
     "name": "stdout",
     "output_type": "stream",
     "text": [
      "Error retrieving audio features for track No Church In The Wild (Track ID: 3Osd3Yf8K73aj4ySn6LrvK): http status: 403, code:-1 - https://api.spotify.com/v1/audio-features/?ids=3Osd3Yf8K73aj4ySn6LrvK:\n",
      " None, reason: None\n"
     ]
    },
    {
     "name": "stderr",
     "output_type": "stream",
     "text": [
      "HTTP Error for GET to https://api.spotify.com/v1/audio-features/?ids=1SkzK37qLSi7Sp6PwYTC0A with Params: {} returned 403 due to None\n",
      "HTTP Error for GET to https://api.spotify.com/v1/audio-features/?ids=7KA4W4McWYRpgf0fWsJZWB with Params: {} returned 403 due to None\n"
     ]
    },
    {
     "name": "stdout",
     "output_type": "stream",
     "text": [
      "Error retrieving audio features for track The Prayer (Track ID: 1SkzK37qLSi7Sp6PwYTC0A): http status: 403, code:-1 - https://api.spotify.com/v1/audio-features/?ids=1SkzK37qLSi7Sp6PwYTC0A:\n",
      " None, reason: None\n",
      "Error retrieving audio features for track See You Again (feat. Kali Uchis) (Track ID: 7KA4W4McWYRpgf0fWsJZWB): http status: 403, code:-1 - https://api.spotify.com/v1/audio-features/?ids=7KA4W4McWYRpgf0fWsJZWB:\n",
      " None, reason: None\n"
     ]
    },
    {
     "name": "stderr",
     "output_type": "stream",
     "text": [
      "HTTP Error for GET to https://api.spotify.com/v1/audio-features/?ids=6hB5O4G6L5xa4r3wKSisH3 with Params: {} returned 403 due to None\n",
      "HTTP Error for GET to https://api.spotify.com/v1/audio-features/?ids=6eT2V7nKXyMf47TwPbtgAD with Params: {} returned 403 due to None\n"
     ]
    },
    {
     "name": "stdout",
     "output_type": "stream",
     "text": [
      "Error retrieving audio features for track Familiarity (Track ID: 6hB5O4G6L5xa4r3wKSisH3): http status: 403, code:-1 - https://api.spotify.com/v1/audio-features/?ids=6hB5O4G6L5xa4r3wKSisH3:\n",
      " None, reason: None\n",
      "Error retrieving audio features for track Seek & Destroy (Track ID: 6eT2V7nKXyMf47TwPbtgAD): http status: 403, code:-1 - https://api.spotify.com/v1/audio-features/?ids=6eT2V7nKXyMf47TwPbtgAD:\n",
      " None, reason: None\n"
     ]
    },
    {
     "name": "stderr",
     "output_type": "stream",
     "text": [
      "HTTP Error for GET to https://api.spotify.com/v1/audio-features/?ids=2CSRrnOEELmhpq8iaAi9cd with Params: {} returned 403 due to None\n",
      "HTTP Error for GET to https://api.spotify.com/v1/audio-features/?ids=1TweDM3JC49LNeelLVg3yX with Params: {} returned 403 due to None\n"
     ]
    },
    {
     "name": "stdout",
     "output_type": "stream",
     "text": [
      "Error retrieving audio features for track Blind (Track ID: 2CSRrnOEELmhpq8iaAi9cd): http status: 403, code:-1 - https://api.spotify.com/v1/audio-features/?ids=2CSRrnOEELmhpq8iaAi9cd:\n",
      " None, reason: None\n",
      "Error retrieving audio features for track Used (feat. Don Toliver) (Track ID: 1TweDM3JC49LNeelLVg3yX): http status: 403, code:-1 - https://api.spotify.com/v1/audio-features/?ids=1TweDM3JC49LNeelLVg3yX:\n",
      " None, reason: None\n"
     ]
    }
   ],
   "source": [
    "# this is the sample data\n",
    "playlist_id_new = '1HngiyQ1VuGJsHyEVWytHX'\n",
    "df_track_new = obtain_playlist_data(playlist_id_new, access_token)"
   ]
  },
  {
   "cell_type": "code",
   "execution_count": 5,
   "metadata": {
    "colab": {
     "base_uri": "https://localhost:8080/",
     "height": 461
    },
    "id": "1uQkoQEJqE0g",
    "outputId": "6b461ac1-a080-42ec-931c-1d11229d7f6b"
   },
   "outputs": [
    {
     "name": "stderr",
     "output_type": "stream",
     "text": [
      "/Users/aarohjugulum/opt/anaconda3/lib/python3.9/site-packages/sklearn/utils/extmath.py:1047: RuntimeWarning: invalid value encountered in divide\n",
      "  updated_mean = (last_sum + new_sum) / updated_sample_count\n",
      "/Users/aarohjugulum/opt/anaconda3/lib/python3.9/site-packages/sklearn/utils/extmath.py:1052: RuntimeWarning: invalid value encountered in divide\n",
      "  T = new_sum / new_sample_count\n",
      "/Users/aarohjugulum/opt/anaconda3/lib/python3.9/site-packages/sklearn/utils/extmath.py:1072: RuntimeWarning: invalid value encountered in divide\n",
      "  new_unnormalized_variance -= correction**2 / new_sample_count\n"
     ]
    },
    {
     "ename": "ValueError",
     "evalue": "Input X contains NaN.\nNearestNeighbors does not accept missing values encoded as NaN natively. For supervised learning, you might want to consider sklearn.ensemble.HistGradientBoostingClassifier and Regressor which accept missing values encoded as NaNs natively. Alternatively, it is possible to preprocess the data, for instance by using an imputer transformer in a pipeline or drop samples with missing values. See https://scikit-learn.org/stable/modules/impute.html You can find a list of all estimators that handle NaN values at the following page: https://scikit-learn.org/stable/modules/impute.html#estimators-that-handle-nan-values",
     "output_type": "error",
     "traceback": [
      "\u001b[0;31m---------------------------------------------------------------------------\u001b[0m",
      "\u001b[0;31mValueError\u001b[0m                                Traceback (most recent call last)",
      "Cell \u001b[0;32mIn[5], line 24\u001b[0m\n\u001b[1;32m     22\u001b[0m \u001b[38;5;66;03m# create the function which gets the reccomondations and choose the content model\u001b[39;00m\n\u001b[1;32m     23\u001b[0m content_model \u001b[38;5;241m=\u001b[39m NearestNeighbors(n_neighbors\u001b[38;5;241m=\u001b[39m\u001b[38;5;241m10\u001b[39m, algorithm\u001b[38;5;241m=\u001b[39m\u001b[38;5;124m'\u001b[39m\u001b[38;5;124mball_tree\u001b[39m\u001b[38;5;124m'\u001b[39m)\n\u001b[0;32m---> 24\u001b[0m \u001b[43mcontent_model\u001b[49m\u001b[38;5;241;43m.\u001b[39;49m\u001b[43mfit\u001b[49m\u001b[43m(\u001b[49m\u001b[43mX_normalized\u001b[49m\u001b[43m)\u001b[49m\n\u001b[1;32m     26\u001b[0m \u001b[38;5;66;03m# function which collects the songs that we can reccomend\u001b[39;00m\n\u001b[1;32m     27\u001b[0m \u001b[38;5;28;01mdef\u001b[39;00m \u001b[38;5;21mget_hybrid_recommendations\u001b[39m(X_normalized, df, content_model):\n",
      "File \u001b[0;32m~/opt/anaconda3/lib/python3.9/site-packages/sklearn/neighbors/_unsupervised.py:176\u001b[0m, in \u001b[0;36mNearestNeighbors.fit\u001b[0;34m(self, X, y)\u001b[0m\n\u001b[1;32m    159\u001b[0m \u001b[38;5;250m\u001b[39m\u001b[38;5;124;03m\"\"\"Fit the nearest neighbors estimator from the training dataset.\u001b[39;00m\n\u001b[1;32m    160\u001b[0m \n\u001b[1;32m    161\u001b[0m \u001b[38;5;124;03mParameters\u001b[39;00m\n\u001b[0;32m   (...)\u001b[0m\n\u001b[1;32m    173\u001b[0m \u001b[38;5;124;03m    The fitted nearest neighbors estimator.\u001b[39;00m\n\u001b[1;32m    174\u001b[0m \u001b[38;5;124;03m\"\"\"\u001b[39;00m\n\u001b[1;32m    175\u001b[0m \u001b[38;5;28mself\u001b[39m\u001b[38;5;241m.\u001b[39m_validate_params()\n\u001b[0;32m--> 176\u001b[0m \u001b[38;5;28;01mreturn\u001b[39;00m \u001b[38;5;28;43mself\u001b[39;49m\u001b[38;5;241;43m.\u001b[39;49m\u001b[43m_fit\u001b[49m\u001b[43m(\u001b[49m\u001b[43mX\u001b[49m\u001b[43m)\u001b[49m\n",
      "File \u001b[0;32m~/opt/anaconda3/lib/python3.9/site-packages/sklearn/neighbors/_base.py:491\u001b[0m, in \u001b[0;36mNeighborsBase._fit\u001b[0;34m(self, X, y)\u001b[0m\n\u001b[1;32m    489\u001b[0m \u001b[38;5;28;01melse\u001b[39;00m:\n\u001b[1;32m    490\u001b[0m     \u001b[38;5;28;01mif\u001b[39;00m \u001b[38;5;129;01mnot\u001b[39;00m \u001b[38;5;28misinstance\u001b[39m(X, (KDTree, BallTree, NeighborsBase)):\n\u001b[0;32m--> 491\u001b[0m         X \u001b[38;5;241m=\u001b[39m \u001b[38;5;28;43mself\u001b[39;49m\u001b[38;5;241;43m.\u001b[39;49m\u001b[43m_validate_data\u001b[49m\u001b[43m(\u001b[49m\u001b[43mX\u001b[49m\u001b[43m,\u001b[49m\u001b[43m \u001b[49m\u001b[43maccept_sparse\u001b[49m\u001b[38;5;241;43m=\u001b[39;49m\u001b[38;5;124;43m\"\u001b[39;49m\u001b[38;5;124;43mcsr\u001b[39;49m\u001b[38;5;124;43m\"\u001b[39;49m\u001b[43m,\u001b[49m\u001b[43m \u001b[49m\u001b[43morder\u001b[49m\u001b[38;5;241;43m=\u001b[39;49m\u001b[38;5;124;43m\"\u001b[39;49m\u001b[38;5;124;43mC\u001b[39;49m\u001b[38;5;124;43m\"\u001b[39;49m\u001b[43m)\u001b[49m\n\u001b[1;32m    493\u001b[0m \u001b[38;5;28mself\u001b[39m\u001b[38;5;241m.\u001b[39m_check_algorithm_metric()\n\u001b[1;32m    494\u001b[0m \u001b[38;5;28;01mif\u001b[39;00m \u001b[38;5;28mself\u001b[39m\u001b[38;5;241m.\u001b[39mmetric_params \u001b[38;5;129;01mis\u001b[39;00m \u001b[38;5;28;01mNone\u001b[39;00m:\n",
      "File \u001b[0;32m~/opt/anaconda3/lib/python3.9/site-packages/sklearn/base.py:546\u001b[0m, in \u001b[0;36mBaseEstimator._validate_data\u001b[0;34m(self, X, y, reset, validate_separately, **check_params)\u001b[0m\n\u001b[1;32m    544\u001b[0m     \u001b[38;5;28;01mraise\u001b[39;00m \u001b[38;5;167;01mValueError\u001b[39;00m(\u001b[38;5;124m\"\u001b[39m\u001b[38;5;124mValidation should be done on X, y or both.\u001b[39m\u001b[38;5;124m\"\u001b[39m)\n\u001b[1;32m    545\u001b[0m \u001b[38;5;28;01melif\u001b[39;00m \u001b[38;5;129;01mnot\u001b[39;00m no_val_X \u001b[38;5;129;01mand\u001b[39;00m no_val_y:\n\u001b[0;32m--> 546\u001b[0m     X \u001b[38;5;241m=\u001b[39m \u001b[43mcheck_array\u001b[49m\u001b[43m(\u001b[49m\u001b[43mX\u001b[49m\u001b[43m,\u001b[49m\u001b[43m \u001b[49m\u001b[43minput_name\u001b[49m\u001b[38;5;241;43m=\u001b[39;49m\u001b[38;5;124;43m\"\u001b[39;49m\u001b[38;5;124;43mX\u001b[39;49m\u001b[38;5;124;43m\"\u001b[39;49m\u001b[43m,\u001b[49m\u001b[43m \u001b[49m\u001b[38;5;241;43m*\u001b[39;49m\u001b[38;5;241;43m*\u001b[39;49m\u001b[43mcheck_params\u001b[49m\u001b[43m)\u001b[49m\n\u001b[1;32m    547\u001b[0m     out \u001b[38;5;241m=\u001b[39m X\n\u001b[1;32m    548\u001b[0m \u001b[38;5;28;01melif\u001b[39;00m no_val_X \u001b[38;5;129;01mand\u001b[39;00m \u001b[38;5;129;01mnot\u001b[39;00m no_val_y:\n",
      "File \u001b[0;32m~/opt/anaconda3/lib/python3.9/site-packages/sklearn/utils/validation.py:921\u001b[0m, in \u001b[0;36mcheck_array\u001b[0;34m(array, accept_sparse, accept_large_sparse, dtype, order, copy, force_all_finite, ensure_2d, allow_nd, ensure_min_samples, ensure_min_features, estimator, input_name)\u001b[0m\n\u001b[1;32m    915\u001b[0m         \u001b[38;5;28;01mraise\u001b[39;00m \u001b[38;5;167;01mValueError\u001b[39;00m(\n\u001b[1;32m    916\u001b[0m             \u001b[38;5;124m\"\u001b[39m\u001b[38;5;124mFound array with dim \u001b[39m\u001b[38;5;132;01m%d\u001b[39;00m\u001b[38;5;124m. \u001b[39m\u001b[38;5;132;01m%s\u001b[39;00m\u001b[38;5;124m expected <= 2.\u001b[39m\u001b[38;5;124m\"\u001b[39m\n\u001b[1;32m    917\u001b[0m             \u001b[38;5;241m%\u001b[39m (array\u001b[38;5;241m.\u001b[39mndim, estimator_name)\n\u001b[1;32m    918\u001b[0m         )\n\u001b[1;32m    920\u001b[0m     \u001b[38;5;28;01mif\u001b[39;00m force_all_finite:\n\u001b[0;32m--> 921\u001b[0m         \u001b[43m_assert_all_finite\u001b[49m\u001b[43m(\u001b[49m\n\u001b[1;32m    922\u001b[0m \u001b[43m            \u001b[49m\u001b[43marray\u001b[49m\u001b[43m,\u001b[49m\n\u001b[1;32m    923\u001b[0m \u001b[43m            \u001b[49m\u001b[43minput_name\u001b[49m\u001b[38;5;241;43m=\u001b[39;49m\u001b[43minput_name\u001b[49m\u001b[43m,\u001b[49m\n\u001b[1;32m    924\u001b[0m \u001b[43m            \u001b[49m\u001b[43mestimator_name\u001b[49m\u001b[38;5;241;43m=\u001b[39;49m\u001b[43mestimator_name\u001b[49m\u001b[43m,\u001b[49m\n\u001b[1;32m    925\u001b[0m \u001b[43m            \u001b[49m\u001b[43mallow_nan\u001b[49m\u001b[38;5;241;43m=\u001b[39;49m\u001b[43mforce_all_finite\u001b[49m\u001b[43m \u001b[49m\u001b[38;5;241;43m==\u001b[39;49m\u001b[43m \u001b[49m\u001b[38;5;124;43m\"\u001b[39;49m\u001b[38;5;124;43mallow-nan\u001b[39;49m\u001b[38;5;124;43m\"\u001b[39;49m\u001b[43m,\u001b[49m\n\u001b[1;32m    926\u001b[0m \u001b[43m        \u001b[49m\u001b[43m)\u001b[49m\n\u001b[1;32m    928\u001b[0m \u001b[38;5;28;01mif\u001b[39;00m ensure_min_samples \u001b[38;5;241m>\u001b[39m \u001b[38;5;241m0\u001b[39m:\n\u001b[1;32m    929\u001b[0m     n_samples \u001b[38;5;241m=\u001b[39m _num_samples(array)\n",
      "File \u001b[0;32m~/opt/anaconda3/lib/python3.9/site-packages/sklearn/utils/validation.py:161\u001b[0m, in \u001b[0;36m_assert_all_finite\u001b[0;34m(X, allow_nan, msg_dtype, estimator_name, input_name)\u001b[0m\n\u001b[1;32m    144\u001b[0m \u001b[38;5;28;01mif\u001b[39;00m estimator_name \u001b[38;5;129;01mand\u001b[39;00m input_name \u001b[38;5;241m==\u001b[39m \u001b[38;5;124m\"\u001b[39m\u001b[38;5;124mX\u001b[39m\u001b[38;5;124m\"\u001b[39m \u001b[38;5;129;01mand\u001b[39;00m has_nan_error:\n\u001b[1;32m    145\u001b[0m     \u001b[38;5;66;03m# Improve the error message on how to handle missing values in\u001b[39;00m\n\u001b[1;32m    146\u001b[0m     \u001b[38;5;66;03m# scikit-learn.\u001b[39;00m\n\u001b[1;32m    147\u001b[0m     msg_err \u001b[38;5;241m+\u001b[39m\u001b[38;5;241m=\u001b[39m (\n\u001b[1;32m    148\u001b[0m         \u001b[38;5;124mf\u001b[39m\u001b[38;5;124m\"\u001b[39m\u001b[38;5;130;01m\\n\u001b[39;00m\u001b[38;5;132;01m{\u001b[39;00mestimator_name\u001b[38;5;132;01m}\u001b[39;00m\u001b[38;5;124m does not accept missing values\u001b[39m\u001b[38;5;124m\"\u001b[39m\n\u001b[1;32m    149\u001b[0m         \u001b[38;5;124m\"\u001b[39m\u001b[38;5;124m encoded as NaN natively. For supervised learning, you might want\u001b[39m\u001b[38;5;124m\"\u001b[39m\n\u001b[0;32m   (...)\u001b[0m\n\u001b[1;32m    159\u001b[0m         \u001b[38;5;124m\"\u001b[39m\u001b[38;5;124m#estimators-that-handle-nan-values\u001b[39m\u001b[38;5;124m\"\u001b[39m\n\u001b[1;32m    160\u001b[0m     )\n\u001b[0;32m--> 161\u001b[0m \u001b[38;5;28;01mraise\u001b[39;00m \u001b[38;5;167;01mValueError\u001b[39;00m(msg_err)\n",
      "\u001b[0;31mValueError\u001b[0m: Input X contains NaN.\nNearestNeighbors does not accept missing values encoded as NaN natively. For supervised learning, you might want to consider sklearn.ensemble.HistGradientBoostingClassifier and Regressor which accept missing values encoded as NaNs natively. Alternatively, it is possible to preprocess the data, for instance by using an imputer transformer in a pipeline or drop samples with missing values. See https://scikit-learn.org/stable/modules/impute.html You can find a list of all estimators that handle NaN values at the following page: https://scikit-learn.org/stable/modules/impute.html#estimators-that-handle-nan-values"
     ]
    }
   ],
   "source": [
    "import pandas as pd\n",
    "from sklearn.preprocessing import StandardScaler\n",
    "from sklearn.neighbors import NearestNeighbors\n",
    "from sklearn.feature_extraction.text import TfidfVectorizer\n",
    "from sklearn.metrics.pairwise import cosine_similarity\n",
    "\n",
    "# create the feat lists\n",
    "feature_list = ['Danceability', 'Energy', 'Speechiness', 'Acousticness', 'Instrumentalness', 'Liveness', 'Valence', 'Tempo']\n",
    "\n",
    "# normalize the data such that if value us NaN default it to the mean\n",
    "for feature in feature_list:\n",
    "    mean_value = df_track_info[feature].mean()\n",
    "    df_track_info[feature].fillna(mean_value, inplace=True)\n",
    "\n",
    "# create the varibile of data\n",
    "X = df_track_info[feature_list]\n",
    "\n",
    "# normalize it using the library\n",
    "scaler = StandardScaler()\n",
    "X_normalized = scaler.fit_transform(X)\n",
    "\n",
    "# create the function which gets the reccomondations and choose the content model\n",
    "content_model = NearestNeighbors(n_neighbors=10, algorithm='ball_tree')\n",
    "content_model.fit(X_normalized)\n",
    "\n",
    "# function which collects the songs that we can reccomend\n",
    "def get_hybrid_recommendations(X_normalized, df, content_model):\n",
    "    _, content_indices = content_model.kneighbors(X)\n",
    "    valid_indices = set(index for indices in content_indices for index in indices)\n",
    "    valid_indices = list(valid_indices.intersection(range(len(df))))\n",
    "    hybrid_recommendations_df = pd.DataFrame({'Track Name': df.iloc[valid_indices]['Track Name'].tolist(), 'Artists': df.iloc[valid_indices]['Artists']})\n",
    "    return hybrid_recommendations_df\n",
    "\n",
    "# use the first 3 songs on the playlist\n",
    "X_example = X_normalized\n",
    "\n",
    "# make it into a df\n",
    "X_example = pd.DataFrame(X_example, columns=feature_list)\n",
    "\n",
    "# reset the df\n",
    "X_example.reset_index(drop=True, inplace=True)\n",
    "\n",
    "# get the recc\n",
    "hybrid_recommendations_df = get_hybrid_recommendations(X_example, df_track_new, content_model)\n",
    "hybrid_recommendations_df"
   ]
  },
  {
   "cell_type": "markdown",
   "metadata": {
    "id": "XtAuJcY6vfh5"
   },
   "source": [
    "# DashBoard"
   ]
  },
  {
   "cell_type": "code",
   "execution_count": 10,
   "metadata": {
    "colab": {
     "base_uri": "https://localhost:8080/",
     "height": 721
    },
    "id": "nk1BqXKzJ5df",
    "outputId": "bbd7f2cd-4e83-4db6-8854-aafeffda19ac"
   },
   "outputs": [
    {
     "data": {
      "text/html": [
       "\n",
       "  <div id=\"df-6265f85f-c8a6-4d45-b795-568e9082e938\" class=\"colab-df-container\">\n",
       "    <div>\n",
       "<style scoped>\n",
       "    .dataframe tbody tr th:only-of-type {\n",
       "        vertical-align: middle;\n",
       "    }\n",
       "\n",
       "    .dataframe tbody tr th {\n",
       "        vertical-align: top;\n",
       "    }\n",
       "\n",
       "    .dataframe thead th {\n",
       "        text-align: right;\n",
       "    }\n",
       "</style>\n",
       "<table border=\"1\" class=\"dataframe\">\n",
       "  <thead>\n",
       "    <tr style=\"text-align: right;\">\n",
       "      <th></th>\n",
       "      <th>Track Name</th>\n",
       "      <th>Artists</th>\n",
       "      <th>Album Name</th>\n",
       "      <th>Album ID</th>\n",
       "      <th>Track ID</th>\n",
       "      <th>Popularity</th>\n",
       "      <th>Explicit</th>\n",
       "      <th>External URLs</th>\n",
       "      <th>Danceability</th>\n",
       "      <th>Energy</th>\n",
       "      <th>Speechiness</th>\n",
       "      <th>Acousticness</th>\n",
       "      <th>Instrumentalness</th>\n",
       "      <th>Liveness</th>\n",
       "      <th>Valence</th>\n",
       "      <th>Tempo</th>\n",
       "    </tr>\n",
       "  </thead>\n",
       "  <tbody>\n",
       "    <tr>\n",
       "      <th>0</th>\n",
       "      <td>BUTTERFLY EFFECT</td>\n",
       "      <td>Travis Scott</td>\n",
       "      <td>ASTROWORLD</td>\n",
       "      <td>41GuZcammIkupMPKH2OJ6I</td>\n",
       "      <td>2cYqizR4lgvp4Qu6IQ3qGN</td>\n",
       "      <td>82</td>\n",
       "      <td>False</td>\n",
       "      <td>https://open.spotify.com/track/2cYqizR4lgvp4Qu...</td>\n",
       "      <td>0.763</td>\n",
       "      <td>0.628</td>\n",
       "      <td>0.0500</td>\n",
       "      <td>0.0531</td>\n",
       "      <td>0.000000</td>\n",
       "      <td>0.1140</td>\n",
       "      <td>0.193</td>\n",
       "      <td>140.958</td>\n",
       "    </tr>\n",
       "    <tr>\n",
       "      <th>1</th>\n",
       "      <td>You Make My Dreams (Come True)</td>\n",
       "      <td>Daryl Hall &amp; John Oates</td>\n",
       "      <td>Voices</td>\n",
       "      <td>4LniALl9S6YedTFdiZWOMS</td>\n",
       "      <td>4o6BgsqLIBViaGVbx5rbRk</td>\n",
       "      <td>80</td>\n",
       "      <td>False</td>\n",
       "      <td>https://open.spotify.com/track/4o6BgsqLIBViaGV...</td>\n",
       "      <td>0.751</td>\n",
       "      <td>0.501</td>\n",
       "      <td>0.0551</td>\n",
       "      <td>0.2340</td>\n",
       "      <td>0.112000</td>\n",
       "      <td>0.0467</td>\n",
       "      <td>0.902</td>\n",
       "      <td>167.057</td>\n",
       "    </tr>\n",
       "    <tr>\n",
       "      <th>2</th>\n",
       "      <td>Baby Pluto</td>\n",
       "      <td>Lil Uzi Vert</td>\n",
       "      <td>Eternal Atake</td>\n",
       "      <td>7IyoGB8J31fvQDwGtHAq9m</td>\n",
       "      <td>7hav1MHURQf5SAoPk0egqh</td>\n",
       "      <td>64</td>\n",
       "      <td>True</td>\n",
       "      <td>https://open.spotify.com/track/7hav1MHURQf5SAo...</td>\n",
       "      <td>0.772</td>\n",
       "      <td>0.634</td>\n",
       "      <td>0.2120</td>\n",
       "      <td>0.1350</td>\n",
       "      <td>0.000000</td>\n",
       "      <td>0.4320</td>\n",
       "      <td>0.671</td>\n",
       "      <td>160.052</td>\n",
       "    </tr>\n",
       "    <tr>\n",
       "      <th>3</th>\n",
       "      <td>Date La Vuelta</td>\n",
       "      <td>Luis Fonsi, Sebastian Yatra, Nicky Jam</td>\n",
       "      <td>Date La Vuelta</td>\n",
       "      <td>7IPOvQXhAI5OQD8S3ZOtmE</td>\n",
       "      <td>5lwVd35Zg6DJ4qibVMq99H</td>\n",
       "      <td>56</td>\n",
       "      <td>False</td>\n",
       "      <td>https://open.spotify.com/track/5lwVd35Zg6DJ4qi...</td>\n",
       "      <td>0.747</td>\n",
       "      <td>0.825</td>\n",
       "      <td>0.0566</td>\n",
       "      <td>0.0487</td>\n",
       "      <td>0.000000</td>\n",
       "      <td>0.1070</td>\n",
       "      <td>0.866</td>\n",
       "      <td>94.006</td>\n",
       "    </tr>\n",
       "    <tr>\n",
       "      <th>4</th>\n",
       "      <td>Back Then</td>\n",
       "      <td>Alexander Lewis, William $</td>\n",
       "      <td>OMNI.</td>\n",
       "      <td>17My8qJrxLwS53OR6VmU5Y</td>\n",
       "      <td>0RhGWsD4mLvKRBn7X8dYWl</td>\n",
       "      <td>0</td>\n",
       "      <td>False</td>\n",
       "      <td>https://open.spotify.com/track/0RhGWsD4mLvKRBn...</td>\n",
       "      <td>0.689</td>\n",
       "      <td>0.940</td>\n",
       "      <td>0.2390</td>\n",
       "      <td>0.1090</td>\n",
       "      <td>0.000000</td>\n",
       "      <td>0.7660</td>\n",
       "      <td>0.421</td>\n",
       "      <td>107.935</td>\n",
       "    </tr>\n",
       "    <tr>\n",
       "      <th>...</th>\n",
       "      <td>...</td>\n",
       "      <td>...</td>\n",
       "      <td>...</td>\n",
       "      <td>...</td>\n",
       "      <td>...</td>\n",
       "      <td>...</td>\n",
       "      <td>...</td>\n",
       "      <td>...</td>\n",
       "      <td>...</td>\n",
       "      <td>...</td>\n",
       "      <td>...</td>\n",
       "      <td>...</td>\n",
       "      <td>...</td>\n",
       "      <td>...</td>\n",
       "      <td>...</td>\n",
       "      <td>...</td>\n",
       "    </tr>\n",
       "    <tr>\n",
       "      <th>83</th>\n",
       "      <td>LMK</td>\n",
       "      <td>Lil Xxel</td>\n",
       "      <td>LMK</td>\n",
       "      <td>0TBztHupwqjak5J0ugWBxQ</td>\n",
       "      <td>4s0hDz7zGgZUav9EvzyLsB</td>\n",
       "      <td>62</td>\n",
       "      <td>False</td>\n",
       "      <td>https://open.spotify.com/track/4s0hDz7zGgZUav9...</td>\n",
       "      <td>0.748</td>\n",
       "      <td>0.457</td>\n",
       "      <td>0.0465</td>\n",
       "      <td>0.0292</td>\n",
       "      <td>0.000294</td>\n",
       "      <td>0.4440</td>\n",
       "      <td>0.464</td>\n",
       "      <td>123.035</td>\n",
       "    </tr>\n",
       "    <tr>\n",
       "      <th>84</th>\n",
       "      <td>Fairytale</td>\n",
       "      <td>Alexander Rybak</td>\n",
       "      <td>Fairytale</td>\n",
       "      <td>6leQaoNeZx87qqlm69Exa0</td>\n",
       "      <td>2rzWSywjwzbysCmdOzssFR</td>\n",
       "      <td>0</td>\n",
       "      <td>False</td>\n",
       "      <td>https://open.spotify.com/track/2rzWSywjwzbysCm...</td>\n",
       "      <td>0.576</td>\n",
       "      <td>0.785</td>\n",
       "      <td>0.0295</td>\n",
       "      <td>0.6200</td>\n",
       "      <td>0.000043</td>\n",
       "      <td>0.2330</td>\n",
       "      <td>0.674</td>\n",
       "      <td>107.996</td>\n",
       "    </tr>\n",
       "    <tr>\n",
       "      <th>85</th>\n",
       "      <td>Be Something</td>\n",
       "      <td>Polo G, Lil Baby</td>\n",
       "      <td>THE GOAT</td>\n",
       "      <td>39xhYyNNDatQtgKw2KdXMz</td>\n",
       "      <td>65jw6GhwQW3Db55PxlPEpS</td>\n",
       "      <td>65</td>\n",
       "      <td>True</td>\n",
       "      <td>https://open.spotify.com/track/65jw6GhwQW3Db55...</td>\n",
       "      <td>0.829</td>\n",
       "      <td>0.520</td>\n",
       "      <td>0.2940</td>\n",
       "      <td>0.0232</td>\n",
       "      <td>0.000000</td>\n",
       "      <td>0.1340</td>\n",
       "      <td>0.248</td>\n",
       "      <td>136.103</td>\n",
       "    </tr>\n",
       "    <tr>\n",
       "      <th>86</th>\n",
       "      <td>C'est La Vie</td>\n",
       "      <td>Khaled</td>\n",
       "      <td>C'est La Vie</td>\n",
       "      <td>4LzLRLP1DU8escOmv26SsP</td>\n",
       "      <td>5iqrbO0fhuLMiy9tYGanv6</td>\n",
       "      <td>65</td>\n",
       "      <td>False</td>\n",
       "      <td>https://open.spotify.com/track/5iqrbO0fhuLMiy9...</td>\n",
       "      <td>0.616</td>\n",
       "      <td>0.933</td>\n",
       "      <td>0.0513</td>\n",
       "      <td>0.0259</td>\n",
       "      <td>0.000000</td>\n",
       "      <td>0.3590</td>\n",
       "      <td>0.806</td>\n",
       "      <td>129.952</td>\n",
       "    </tr>\n",
       "    <tr>\n",
       "      <th>87</th>\n",
       "      <td>Sorry 4 What? // LV BELT</td>\n",
       "      <td>Tory Lanez</td>\n",
       "      <td>Sorry 4 What</td>\n",
       "      <td>7MUY0WxCmHcgEEeQNjoe8a</td>\n",
       "      <td>0AyA2lHB4YnQUNa8Y6NNjm</td>\n",
       "      <td>68</td>\n",
       "      <td>True</td>\n",
       "      <td>https://open.spotify.com/track/0AyA2lHB4YnQUNa...</td>\n",
       "      <td>0.652</td>\n",
       "      <td>0.663</td>\n",
       "      <td>0.0628</td>\n",
       "      <td>0.0199</td>\n",
       "      <td>0.000000</td>\n",
       "      <td>0.1320</td>\n",
       "      <td>0.280</td>\n",
       "      <td>125.803</td>\n",
       "    </tr>\n",
       "  </tbody>\n",
       "</table>\n",
       "<p>88 rows × 16 columns</p>\n",
       "</div>\n",
       "    <div class=\"colab-df-buttons\">\n",
       "\n",
       "  <div class=\"colab-df-container\">\n",
       "    <button class=\"colab-df-convert\" onclick=\"convertToInteractive('df-6265f85f-c8a6-4d45-b795-568e9082e938')\"\n",
       "            title=\"Convert this dataframe to an interactive table.\"\n",
       "            style=\"display:none;\">\n",
       "\n",
       "  <svg xmlns=\"http://www.w3.org/2000/svg\" height=\"24px\" viewBox=\"0 -960 960 960\">\n",
       "    <path d=\"M120-120v-720h720v720H120Zm60-500h600v-160H180v160Zm220 220h160v-160H400v160Zm0 220h160v-160H400v160ZM180-400h160v-160H180v160Zm440 0h160v-160H620v160ZM180-180h160v-160H180v160Zm440 0h160v-160H620v160Z\"/>\n",
       "  </svg>\n",
       "    </button>\n",
       "\n",
       "  <style>\n",
       "    .colab-df-container {\n",
       "      display:flex;\n",
       "      gap: 12px;\n",
       "    }\n",
       "\n",
       "    .colab-df-convert {\n",
       "      background-color: #E8F0FE;\n",
       "      border: none;\n",
       "      border-radius: 50%;\n",
       "      cursor: pointer;\n",
       "      display: none;\n",
       "      fill: #1967D2;\n",
       "      height: 32px;\n",
       "      padding: 0 0 0 0;\n",
       "      width: 32px;\n",
       "    }\n",
       "\n",
       "    .colab-df-convert:hover {\n",
       "      background-color: #E2EBFA;\n",
       "      box-shadow: 0px 1px 2px rgba(60, 64, 67, 0.3), 0px 1px 3px 1px rgba(60, 64, 67, 0.15);\n",
       "      fill: #174EA6;\n",
       "    }\n",
       "\n",
       "    .colab-df-buttons div {\n",
       "      margin-bottom: 4px;\n",
       "    }\n",
       "\n",
       "    [theme=dark] .colab-df-convert {\n",
       "      background-color: #3B4455;\n",
       "      fill: #D2E3FC;\n",
       "    }\n",
       "\n",
       "    [theme=dark] .colab-df-convert:hover {\n",
       "      background-color: #434B5C;\n",
       "      box-shadow: 0px 1px 3px 1px rgba(0, 0, 0, 0.15);\n",
       "      filter: drop-shadow(0px 1px 2px rgba(0, 0, 0, 0.3));\n",
       "      fill: #FFFFFF;\n",
       "    }\n",
       "  </style>\n",
       "\n",
       "    <script>\n",
       "      const buttonEl =\n",
       "        document.querySelector('#df-6265f85f-c8a6-4d45-b795-568e9082e938 button.colab-df-convert');\n",
       "      buttonEl.style.display =\n",
       "        google.colab.kernel.accessAllowed ? 'block' : 'none';\n",
       "\n",
       "      async function convertToInteractive(key) {\n",
       "        const element = document.querySelector('#df-6265f85f-c8a6-4d45-b795-568e9082e938');\n",
       "        const dataTable =\n",
       "          await google.colab.kernel.invokeFunction('convertToInteractive',\n",
       "                                                    [key], {});\n",
       "        if (!dataTable) return;\n",
       "\n",
       "        const docLinkHtml = 'Like what you see? Visit the ' +\n",
       "          '<a target=\"_blank\" href=https://colab.research.google.com/notebooks/data_table.ipynb>data table notebook</a>'\n",
       "          + ' to learn more about interactive tables.';\n",
       "        element.innerHTML = '';\n",
       "        dataTable['output_type'] = 'display_data';\n",
       "        await google.colab.output.renderOutput(dataTable, element);\n",
       "        const docLink = document.createElement('div');\n",
       "        docLink.innerHTML = docLinkHtml;\n",
       "        element.appendChild(docLink);\n",
       "      }\n",
       "    </script>\n",
       "  </div>\n",
       "\n",
       "\n",
       "<div id=\"df-b88b81da-fff9-4c5b-8fa0-38a1256b8863\">\n",
       "  <button class=\"colab-df-quickchart\" onclick=\"quickchart('df-b88b81da-fff9-4c5b-8fa0-38a1256b8863')\"\n",
       "            title=\"Suggest charts\"\n",
       "            style=\"display:none;\">\n",
       "\n",
       "<svg xmlns=\"http://www.w3.org/2000/svg\" height=\"24px\"viewBox=\"0 0 24 24\"\n",
       "     width=\"24px\">\n",
       "    <g>\n",
       "        <path d=\"M19 3H5c-1.1 0-2 .9-2 2v14c0 1.1.9 2 2 2h14c1.1 0 2-.9 2-2V5c0-1.1-.9-2-2-2zM9 17H7v-7h2v7zm4 0h-2V7h2v10zm4 0h-2v-4h2v4z\"/>\n",
       "    </g>\n",
       "</svg>\n",
       "  </button>\n",
       "\n",
       "<style>\n",
       "  .colab-df-quickchart {\n",
       "      --bg-color: #E8F0FE;\n",
       "      --fill-color: #1967D2;\n",
       "      --hover-bg-color: #E2EBFA;\n",
       "      --hover-fill-color: #174EA6;\n",
       "      --disabled-fill-color: #AAA;\n",
       "      --disabled-bg-color: #DDD;\n",
       "  }\n",
       "\n",
       "  [theme=dark] .colab-df-quickchart {\n",
       "      --bg-color: #3B4455;\n",
       "      --fill-color: #D2E3FC;\n",
       "      --hover-bg-color: #434B5C;\n",
       "      --hover-fill-color: #FFFFFF;\n",
       "      --disabled-bg-color: #3B4455;\n",
       "      --disabled-fill-color: #666;\n",
       "  }\n",
       "\n",
       "  .colab-df-quickchart {\n",
       "    background-color: var(--bg-color);\n",
       "    border: none;\n",
       "    border-radius: 50%;\n",
       "    cursor: pointer;\n",
       "    display: none;\n",
       "    fill: var(--fill-color);\n",
       "    height: 32px;\n",
       "    padding: 0;\n",
       "    width: 32px;\n",
       "  }\n",
       "\n",
       "  .colab-df-quickchart:hover {\n",
       "    background-color: var(--hover-bg-color);\n",
       "    box-shadow: 0 1px 2px rgba(60, 64, 67, 0.3), 0 1px 3px 1px rgba(60, 64, 67, 0.15);\n",
       "    fill: var(--button-hover-fill-color);\n",
       "  }\n",
       "\n",
       "  .colab-df-quickchart-complete:disabled,\n",
       "  .colab-df-quickchart-complete:disabled:hover {\n",
       "    background-color: var(--disabled-bg-color);\n",
       "    fill: var(--disabled-fill-color);\n",
       "    box-shadow: none;\n",
       "  }\n",
       "\n",
       "  .colab-df-spinner {\n",
       "    border: 2px solid var(--fill-color);\n",
       "    border-color: transparent;\n",
       "    border-bottom-color: var(--fill-color);\n",
       "    animation:\n",
       "      spin 1s steps(1) infinite;\n",
       "  }\n",
       "\n",
       "  @keyframes spin {\n",
       "    0% {\n",
       "      border-color: transparent;\n",
       "      border-bottom-color: var(--fill-color);\n",
       "      border-left-color: var(--fill-color);\n",
       "    }\n",
       "    20% {\n",
       "      border-color: transparent;\n",
       "      border-left-color: var(--fill-color);\n",
       "      border-top-color: var(--fill-color);\n",
       "    }\n",
       "    30% {\n",
       "      border-color: transparent;\n",
       "      border-left-color: var(--fill-color);\n",
       "      border-top-color: var(--fill-color);\n",
       "      border-right-color: var(--fill-color);\n",
       "    }\n",
       "    40% {\n",
       "      border-color: transparent;\n",
       "      border-right-color: var(--fill-color);\n",
       "      border-top-color: var(--fill-color);\n",
       "    }\n",
       "    60% {\n",
       "      border-color: transparent;\n",
       "      border-right-color: var(--fill-color);\n",
       "    }\n",
       "    80% {\n",
       "      border-color: transparent;\n",
       "      border-right-color: var(--fill-color);\n",
       "      border-bottom-color: var(--fill-color);\n",
       "    }\n",
       "    90% {\n",
       "      border-color: transparent;\n",
       "      border-bottom-color: var(--fill-color);\n",
       "    }\n",
       "  }\n",
       "</style>\n",
       "\n",
       "  <script>\n",
       "    async function quickchart(key) {\n",
       "      const quickchartButtonEl =\n",
       "        document.querySelector('#' + key + ' button');\n",
       "      quickchartButtonEl.disabled = true;  // To prevent multiple clicks.\n",
       "      quickchartButtonEl.classList.add('colab-df-spinner');\n",
       "      try {\n",
       "        const charts = await google.colab.kernel.invokeFunction(\n",
       "            'suggestCharts', [key], {});\n",
       "      } catch (error) {\n",
       "        console.error('Error during call to suggestCharts:', error);\n",
       "      }\n",
       "      quickchartButtonEl.classList.remove('colab-df-spinner');\n",
       "      quickchartButtonEl.classList.add('colab-df-quickchart-complete');\n",
       "    }\n",
       "    (() => {\n",
       "      let quickchartButtonEl =\n",
       "        document.querySelector('#df-b88b81da-fff9-4c5b-8fa0-38a1256b8863 button');\n",
       "      quickchartButtonEl.style.display =\n",
       "        google.colab.kernel.accessAllowed ? 'block' : 'none';\n",
       "    })();\n",
       "  </script>\n",
       "</div>\n",
       "\n",
       "  <div id=\"id_1c2670e9-bc9f-4679-8dd9-8ae0515de8a6\">\n",
       "    <style>\n",
       "      .colab-df-generate {\n",
       "        background-color: #E8F0FE;\n",
       "        border: none;\n",
       "        border-radius: 50%;\n",
       "        cursor: pointer;\n",
       "        display: none;\n",
       "        fill: #1967D2;\n",
       "        height: 32px;\n",
       "        padding: 0 0 0 0;\n",
       "        width: 32px;\n",
       "      }\n",
       "\n",
       "      .colab-df-generate:hover {\n",
       "        background-color: #E2EBFA;\n",
       "        box-shadow: 0px 1px 2px rgba(60, 64, 67, 0.3), 0px 1px 3px 1px rgba(60, 64, 67, 0.15);\n",
       "        fill: #174EA6;\n",
       "      }\n",
       "\n",
       "      [theme=dark] .colab-df-generate {\n",
       "        background-color: #3B4455;\n",
       "        fill: #D2E3FC;\n",
       "      }\n",
       "\n",
       "      [theme=dark] .colab-df-generate:hover {\n",
       "        background-color: #434B5C;\n",
       "        box-shadow: 0px 1px 3px 1px rgba(0, 0, 0, 0.15);\n",
       "        filter: drop-shadow(0px 1px 2px rgba(0, 0, 0, 0.3));\n",
       "        fill: #FFFFFF;\n",
       "      }\n",
       "    </style>\n",
       "    <button class=\"colab-df-generate\" onclick=\"generateWithVariable('df_track_info')\"\n",
       "            title=\"Generate code using this dataframe.\"\n",
       "            style=\"display:none;\">\n",
       "\n",
       "  <svg xmlns=\"http://www.w3.org/2000/svg\" height=\"24px\"viewBox=\"0 0 24 24\"\n",
       "       width=\"24px\">\n",
       "    <path d=\"M7,19H8.4L18.45,9,17,7.55,7,17.6ZM5,21V16.75L18.45,3.32a2,2,0,0,1,2.83,0l1.4,1.43a1.91,1.91,0,0,1,.58,1.4,1.91,1.91,0,0,1-.58,1.4L9.25,21ZM18.45,9,17,7.55Zm-12,3A5.31,5.31,0,0,0,4.9,8.1,5.31,5.31,0,0,0,1,6.5,5.31,5.31,0,0,0,4.9,4.9,5.31,5.31,0,0,0,6.5,1,5.31,5.31,0,0,0,8.1,4.9,5.31,5.31,0,0,0,12,6.5,5.46,5.46,0,0,0,6.5,12Z\"/>\n",
       "  </svg>\n",
       "    </button>\n",
       "    <script>\n",
       "      (() => {\n",
       "      const buttonEl =\n",
       "        document.querySelector('#id_1c2670e9-bc9f-4679-8dd9-8ae0515de8a6 button.colab-df-generate');\n",
       "      buttonEl.style.display =\n",
       "        google.colab.kernel.accessAllowed ? 'block' : 'none';\n",
       "\n",
       "      buttonEl.onclick = () => {\n",
       "        google.colab.notebook.generateWithVariable('df_track_info');\n",
       "      }\n",
       "      })();\n",
       "    </script>\n",
       "  </div>\n",
       "\n",
       "    </div>\n",
       "  </div>\n"
      ],
      "text/plain": [
       "                        Track Name                                 Artists  \\\n",
       "0                 BUTTERFLY EFFECT                            Travis Scott   \n",
       "1   You Make My Dreams (Come True)                 Daryl Hall & John Oates   \n",
       "2                       Baby Pluto                            Lil Uzi Vert   \n",
       "3                   Date La Vuelta  Luis Fonsi, Sebastian Yatra, Nicky Jam   \n",
       "4                        Back Then              Alexander Lewis, William $   \n",
       "..                             ...                                     ...   \n",
       "83                             LMK                                Lil Xxel   \n",
       "84                       Fairytale                         Alexander Rybak   \n",
       "85                    Be Something                        Polo G, Lil Baby   \n",
       "86                    C'est La Vie                                  Khaled   \n",
       "87        Sorry 4 What? // LV BELT                              Tory Lanez   \n",
       "\n",
       "        Album Name                Album ID                Track ID  \\\n",
       "0       ASTROWORLD  41GuZcammIkupMPKH2OJ6I  2cYqizR4lgvp4Qu6IQ3qGN   \n",
       "1           Voices  4LniALl9S6YedTFdiZWOMS  4o6BgsqLIBViaGVbx5rbRk   \n",
       "2    Eternal Atake  7IyoGB8J31fvQDwGtHAq9m  7hav1MHURQf5SAoPk0egqh   \n",
       "3   Date La Vuelta  7IPOvQXhAI5OQD8S3ZOtmE  5lwVd35Zg6DJ4qibVMq99H   \n",
       "4            OMNI.  17My8qJrxLwS53OR6VmU5Y  0RhGWsD4mLvKRBn7X8dYWl   \n",
       "..             ...                     ...                     ...   \n",
       "83             LMK  0TBztHupwqjak5J0ugWBxQ  4s0hDz7zGgZUav9EvzyLsB   \n",
       "84       Fairytale  6leQaoNeZx87qqlm69Exa0  2rzWSywjwzbysCmdOzssFR   \n",
       "85        THE GOAT  39xhYyNNDatQtgKw2KdXMz  65jw6GhwQW3Db55PxlPEpS   \n",
       "86    C'est La Vie  4LzLRLP1DU8escOmv26SsP  5iqrbO0fhuLMiy9tYGanv6   \n",
       "87    Sorry 4 What  7MUY0WxCmHcgEEeQNjoe8a  0AyA2lHB4YnQUNa8Y6NNjm   \n",
       "\n",
       "    Popularity  Explicit                                      External URLs  \\\n",
       "0           82     False  https://open.spotify.com/track/2cYqizR4lgvp4Qu...   \n",
       "1           80     False  https://open.spotify.com/track/4o6BgsqLIBViaGV...   \n",
       "2           64      True  https://open.spotify.com/track/7hav1MHURQf5SAo...   \n",
       "3           56     False  https://open.spotify.com/track/5lwVd35Zg6DJ4qi...   \n",
       "4            0     False  https://open.spotify.com/track/0RhGWsD4mLvKRBn...   \n",
       "..         ...       ...                                                ...   \n",
       "83          62     False  https://open.spotify.com/track/4s0hDz7zGgZUav9...   \n",
       "84           0     False  https://open.spotify.com/track/2rzWSywjwzbysCm...   \n",
       "85          65      True  https://open.spotify.com/track/65jw6GhwQW3Db55...   \n",
       "86          65     False  https://open.spotify.com/track/5iqrbO0fhuLMiy9...   \n",
       "87          68      True  https://open.spotify.com/track/0AyA2lHB4YnQUNa...   \n",
       "\n",
       "    Danceability  Energy  Speechiness  Acousticness  Instrumentalness  \\\n",
       "0          0.763   0.628       0.0500        0.0531          0.000000   \n",
       "1          0.751   0.501       0.0551        0.2340          0.112000   \n",
       "2          0.772   0.634       0.2120        0.1350          0.000000   \n",
       "3          0.747   0.825       0.0566        0.0487          0.000000   \n",
       "4          0.689   0.940       0.2390        0.1090          0.000000   \n",
       "..           ...     ...          ...           ...               ...   \n",
       "83         0.748   0.457       0.0465        0.0292          0.000294   \n",
       "84         0.576   0.785       0.0295        0.6200          0.000043   \n",
       "85         0.829   0.520       0.2940        0.0232          0.000000   \n",
       "86         0.616   0.933       0.0513        0.0259          0.000000   \n",
       "87         0.652   0.663       0.0628        0.0199          0.000000   \n",
       "\n",
       "    Liveness  Valence    Tempo  \n",
       "0     0.1140    0.193  140.958  \n",
       "1     0.0467    0.902  167.057  \n",
       "2     0.4320    0.671  160.052  \n",
       "3     0.1070    0.866   94.006  \n",
       "4     0.7660    0.421  107.935  \n",
       "..       ...      ...      ...  \n",
       "83    0.4440    0.464  123.035  \n",
       "84    0.2330    0.674  107.996  \n",
       "85    0.1340    0.248  136.103  \n",
       "86    0.3590    0.806  129.952  \n",
       "87    0.1320    0.280  125.803  \n",
       "\n",
       "[88 rows x 16 columns]"
      ]
     },
     "execution_count": 10,
     "metadata": {},
     "output_type": "execute_result"
    }
   ],
   "source": [
    "df_track_info"
   ]
  },
  {
   "cell_type": "code",
   "execution_count": 11,
   "metadata": {
    "colab": {
     "base_uri": "https://localhost:8080/",
     "height": 265
    },
    "id": "7VBwzB6bKELs",
    "outputId": "da30bee4-5f11-4e5d-f8fb-83058b908e73"
   },
   "outputs": [
    {
     "data": {
      "image/png": "[encoded data removed]",
      "text/plain": [
       "<Figure size 1200x240 with 1 Axes>"
      ]
     },
     "metadata": {},
     "output_type": "display_data"
    }
   ],
   "source": [
    "from matplotlib import pyplot as plt\n",
    "import seaborn as sns\n",
    "figsize = (12, 1.2 * len(df_track_info['Explicit'].unique()))\n",
    "plt.figure(figsize=figsize)\n",
    "sns.violinplot(df_track_info, x='Popularity', y='Explicit', inner='stick', palette='Dark2')\n",
    "sns.despine(top=True, right=True, bottom=True, left=True)"
   ]
  },
  {
   "cell_type": "code",
   "execution_count": 12,
   "metadata": {
    "id": "vX6J0O6eSi7s"
   },
   "outputs": [],
   "source": [
    "# get most popular artist\n",
    "average_popularity_by_artist = df_track_info.groupby(\"Artists\")[\"Popularity\"].mean().reset_index()\n",
    "average_popularity_by_artist = average_popularity_by_artist.sort_values(by=\"Popularity\", ascending=False)\n",
    "df_pop = average_popularity_by_artist[:5]\n",
    "df_un_pop = average_popularity_by_artist.tail(5)"
   ]
  },
  {
   "cell_type": "code",
   "execution_count": 13,
   "metadata": {
    "colab": {
     "base_uri": "https://localhost:8080/",
     "height": 671
    },
    "id": "EF1w_sTwref_",
    "outputId": "7aa4f824-7496-4546-dfb5-387f3f8eecf9"
   },
   "outputs": [
    {
     "data": {
      "application/javascript": [
       "(async (port, path, width, height, cache, element) => {\n",
       "    if (!google.colab.kernel.accessAllowed && !cache) {\n",
       "      return;\n",
       "    }\n",
       "    element.appendChild(document.createTextNode(''));\n",
       "    const url = await google.colab.kernel.proxyPort(port, {cache});\n",
       "    const iframe = document.createElement('iframe');\n",
       "    iframe.src = new URL(path, url).toString();\n",
       "    iframe.height = height;\n",
       "    iframe.width = width;\n",
       "    iframe.style.border = 0;\n",
       "    iframe.allow = [\n",
       "        'accelerometer',\n",
       "        'autoplay',\n",
       "        'camera',\n",
       "        'clipboard-read',\n",
       "        'clipboard-write',\n",
       "        'gyroscope',\n",
       "        'magnetometer',\n",
       "        'microphone',\n",
       "        'serial',\n",
       "        'usb',\n",
       "        'xr-spatial-tracking',\n",
       "    ].join('; ');\n",
       "    element.appendChild(iframe);\n",
       "  })(8050, \"/\", \"100%\", 650, false, window.element)"
      ],
      "text/plain": [
       "<IPython.core.display.Javascript object>"
      ]
     },
     "metadata": {},
     "output_type": "display_data"
    }
   ],
   "source": [
    "import dash\n",
    "from dash import dcc\n",
    "from dash import html\n",
    "from dash.dependencies import Input, Output\n",
    "import plotly.figure_factory as ff\n",
    "import plotly.graph_objects as go\n",
    "import plotly.express as px\n",
    "from dash import dash_table\n",
    "from pyngrok import ngrok\n",
    "\n",
    "# color ids to mimic spotify\n",
    "spotify_black = \"#191414\"\n",
    "neon_green = \"#1DB954\"\n",
    "white = 'white'\n",
    "\n",
    "# input image url\n",
    "image_url = '51rttY7a+9L.png'\n",
    "with open(image_url, 'rb') as image_file:\n",
    "    encoded_image = base64.b64encode(image_file.read()).decode('ascii')\n",
    "\n",
    "\n",
    "# create plot(s)\n",
    "fig = go.Figure()\n",
    "fig.add_trace(go.Scatter(x=df_track_new['Track Name'], y=df_track_new['Popularity'], mode='lines', line=dict(color=neon_green)))\n",
    "fig.update_layout(\n",
    "    xaxis_title=\"Track Name\",\n",
    "    yaxis_title=\"Popularity\",\n",
    "    title=\"Playlist Popularity Trends\",\n",
    "    title_font=dict(family=\"Circular, sans-serif\", size=24, color=white),\n",
    "    xaxis=dict(title_font=dict(family=\"Circular, sans-serif\", size=18, color=white)),\n",
    "    yaxis=dict(title_font=dict(family=\"Circular, sans-serif\", size=18, color=white)),\n",
    "    plot_bgcolor=spotify_black,\n",
    "    paper_bgcolor=spotify_black,\n",
    "    font=dict(family=\"Circular, sans-serif\", size=12, color=white)\n",
    ")\n",
    "fig1 = go.Figure()\n",
    "fig1.add_trace(go.Scatter(x=df_track_new['Track Name'], y=df_track_new['Danceability'], mode='lines', line=dict(color=neon_green)))\n",
    "fig1.update_layout(\n",
    "    xaxis_title=\"Track Name\",\n",
    "    yaxis_title=\"Danceability\",\n",
    "    title=\"Playlist Danceablity Trends\",\n",
    "    title_font=dict(family=\"Circular, sans-serif\", size=24, color=white),\n",
    "    xaxis=dict(title_font=dict(family=\"Circular, sans-serif\", size=18, color=white)),\n",
    "    yaxis=dict(title_font=dict(family=\"Circular, sans-serif\", size=18, color=white)),\n",
    "    plot_bgcolor=spotify_black,\n",
    "    paper_bgcolor=spotify_black,\n",
    "    font=dict(family=\"Circular, sans-serif\", size=12, color=white)\n",
    ")\n",
    "fig2 = go.Figure()\n",
    "fig2.add_trace(go.Scatter(x=df_track_new['Track Name'], y=df_track_new['Energy'], mode='lines', line=dict(color=neon_green)))\n",
    "fig2.update_layout(\n",
    "    xaxis_title=\"Track Name\",\n",
    "    yaxis_title=\"Energy\",\n",
    "    title=\"Playlist Energy Trends\",\n",
    "    title_font=dict(family=\"Circular, sans-serif\", size=24, color=white),\n",
    "    xaxis=dict(title_font=dict(family=\"Circular, sans-serif\", size=18, color=white)),\n",
    "    yaxis=dict(title_font=dict(family=\"Circular, sans-serif\", size=18, color=white)),\n",
    "    plot_bgcolor=spotify_black,\n",
    "    paper_bgcolor=spotify_black,\n",
    "    font=dict(family=\"Circular, sans-serif\", size=12, color=white)\n",
    ")\n",
    "\n",
    "# init the dash\n",
    "app = dash.Dash(__name__)\n",
    "data_table = dash_table.DataTable(\n",
    "    id='data_table',\n",
    "    columns=[{\"name\": col, \"id\": col} for col in hybrid_recommendations_df.columns],\n",
    "    data=hybrid_recommendations_df.to_dict('records'),\n",
    "    style_table={'overflowX': 'auto', 'margin': '20px'},\n",
    "    style_cell={\n",
    "        'textAlign': 'left',\n",
    "        'backgroundColor': spotify_black,\n",
    "        'color': white,\n",
    "        'border': '1px solid white',\n",
    "        'font-family': 'Circular, sans-serif'\n",
    "    },\n",
    "    style_header={\n",
    "        'backgroundColor': neon_green,\n",
    "        'fontWeight': 'bold',\n",
    "        'color': 'white',\n",
    "        'font-family': 'Circular, sans-serif',\n",
    "    },\n",
    ")\n",
    "\n",
    "dash_table_pop = dash_table.DataTable(\n",
    "    id='data_table_pop',\n",
    "    columns=[{\"name\":col, \"id\":col} for col in df_pop],\n",
    "    data=df_pop.to_dict('records'),\n",
    "    style_table={'overflowX': 'auto', 'margin': '20px'},\n",
    "    style_cell={\n",
    "        'textAlign': 'left',\n",
    "        'backgroundColor': spotify_black,\n",
    "        'color': white,\n",
    "        'border': '1px solid white',\n",
    "        'font-family': 'Circular, sans-serif'\n",
    "    },\n",
    "    style_header={\n",
    "        'backgroundColor': neon_green,\n",
    "        'fontWeight': 'bold',\n",
    "        'color': 'white',\n",
    "        'font-family': 'Circular, sans-serif',\n",
    "    },\n",
    ")\n",
    "\n",
    "dash_table_un_pop = dash_table.DataTable(\n",
    "    id='data_table_un_pop',\n",
    "    columns=[{\"name\":col, \"id\":col} for col in df_un_pop],\n",
    "    data=df_un_pop.to_dict('records'),\n",
    "    style_table={'overflowX': 'auto', 'margin': '20px'},\n",
    "    style_cell={\n",
    "        'textAlign': 'left',\n",
    "        'backgroundColor': spotify_black,\n",
    "        'color': white,\n",
    "        'border': '1px solid white',\n",
    "        'font-family': 'Circular, sans-serif'\n",
    "    },\n",
    "    style_header={\n",
    "        'backgroundColor': neon_green,\n",
    "        'fontWeight': 'bold',\n",
    "        'color': 'white',\n",
    "        'font-family': 'Circular, sans-serif',\n",
    "    },\n",
    ")\n",
    "# Define the layout\n",
    "app.layout = html.Div(children=[\n",
    "    html.Div(\n",
    "        children=[\n",
    "            html.H1(\"Your Dashboard\", style={'font-family': 'Circular, sans-serif', 'font-size': '70px', 'color': 'white'}),\n",
    "            html.Img(src=f'data:image/png;base64,{encoded_image}', style={'width': '50px', 'height': '50px'}),\n",
    "        ],\n",
    "        style={'display': 'flex', 'align-items': 'center'}\n",
    "    ),\n",
    "    dcc.Graph(id='Popularity Plot', figure=fig),\n",
    "    dcc.Graph(id='Danceability Plot', figure=fig1),\n",
    "    dcc.Graph(id='Energy Plot', figure=fig2),\n",
    "    html.H2(\"Your Personalized Recommendations\", style={'font-family':'Circular, sans-serif' , 'color': 'white'}),\n",
    "    data_table,\n",
    "    html.H2(\"Your Most Popular Artists\", style={'font-family':'Circular, sans-serif' , 'color': 'white'}),\n",
    "    dash_table_pop,\n",
    "    html.H2(\"Your UnderGround Artists\", style={'font-family':'Circular, sans-serif' , 'color': 'white'}),\n",
    "    dash_table_un_pop,\n",
    "])\n",
    "\n",
    "# run app\n",
    "if __name__ == '__main__':\n",
    "    app.run_server(host='127.0.0.1', port=8050, debug=True, open_browser=True)"
   ]
  }
 ],
 "metadata": {
  "colab": {
   "provenance": []
  },
  "kernelspec": {
   "display_name": "Python 3 (ipykernel)",
   "language": "python",
   "name": "python3"
  },
  "language_info": {
   "codemirror_mode": {
    "name": "ipython",
    "version": 3
   },
   "file_extension": ".py",
   "mimetype": "text/x-python",
   "name": "python",
   "nbconvert_exporter": "python",
   "pygments_lexer": "ipython3",
   "version": "3.9.12"
  }
 },
 "nbformat": 4,
 "nbformat_minor": 4
}
